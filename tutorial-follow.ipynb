{
 "cells": [
  {
   "cell_type": "code",
   "execution_count": 1,
   "id": "86e36ed0",
   "metadata": {
    "_cell_guid": "b1076dfc-b9ad-4769-8c92-a6c4dae69d19",
    "_uuid": "8f2839f25d086af736a60e9eeb907d3b93b6e0e5",
    "execution": {
     "iopub.execute_input": "2024-05-02T01:04:20.563774Z",
     "iopub.status.busy": "2024-05-02T01:04:20.563062Z",
     "iopub.status.idle": "2024-05-02T01:04:35.345621Z",
     "shell.execute_reply": "2024-05-02T01:04:35.344671Z"
    },
    "papermill": {
     "duration": 14.794954,
     "end_time": "2024-05-02T01:04:35.348250",
     "exception": false,
     "start_time": "2024-05-02T01:04:20.553296",
     "status": "completed"
    },
    "tags": []
   },
   "outputs": [
    {
     "name": "stderr",
     "output_type": "stream",
     "text": [
      "2024-05-02 01:04:22.429209: E external/local_xla/xla/stream_executor/cuda/cuda_dnn.cc:9261] Unable to register cuDNN factory: Attempting to register factory for plugin cuDNN when one has already been registered\n",
      "2024-05-02 01:04:22.429313: E external/local_xla/xla/stream_executor/cuda/cuda_fft.cc:607] Unable to register cuFFT factory: Attempting to register factory for plugin cuFFT when one has already been registered\n",
      "2024-05-02 01:04:22.568228: E external/local_xla/xla/stream_executor/cuda/cuda_blas.cc:1515] Unable to register cuBLAS factory: Attempting to register factory for plugin cuBLAS when one has already been registered\n"
     ]
    }
   ],
   "source": [
    "import os\n",
    "os.environ['KERAS_BACKEND'] = 'tensorflow'\n",
    "\n",
    "import keras_nlp\n",
    "import keras\n",
    "import keras.backend as K\n",
    "import tensorflow as tf\n",
    "\n",
    "import numpy as np\n",
    "import pandas as pd\n",
    "\n",
    "import matplotlib.pyplot as plt\n",
    "import matplotlib as mpl\n",
    "\n",
    "cmap = mpl.colormaps['coolwarm']"
   ]
  },
  {
   "cell_type": "markdown",
   "id": "6a5064c0",
   "metadata": {
    "papermill": {
     "duration": 0.007378,
     "end_time": "2024-05-02T01:04:35.363749",
     "exception": false,
     "start_time": "2024-05-02T01:04:35.356371",
     "status": "completed"
    },
    "tags": []
   },
   "source": [
    "### Configuration"
   ]
  },
  {
   "cell_type": "code",
   "execution_count": 2,
   "id": "e63cfda9",
   "metadata": {
    "execution": {
     "iopub.execute_input": "2024-05-02T01:04:35.380289Z",
     "iopub.status.busy": "2024-05-02T01:04:35.379756Z",
     "iopub.status.idle": "2024-05-02T01:04:35.384703Z",
     "shell.execute_reply": "2024-05-02T01:04:35.383844Z"
    },
    "papermill": {
     "duration": 0.015248,
     "end_time": "2024-05-02T01:04:35.386607",
     "exception": false,
     "start_time": "2024-05-02T01:04:35.371359",
     "status": "completed"
    },
    "tags": []
   },
   "outputs": [],
   "source": [
    "class CFG:\n",
    "    seed = 42\n",
    "    preset = 'deberta_v3_extra_small_en'\n",
    "    sequence_length = 512\n",
    "    epochs = 10\n",
    "    batch_size = 32\n",
    "    scheduler = 'exp'\n",
    "    cache = False\n",
    "    \n",
    "    lr_begin = 1e-5\n",
    "    lr_max = 1e-4\n",
    "    lr_num_ramp = 4\n",
    "    lr_decay_rate = 0.6"
   ]
  },
  {
   "cell_type": "code",
   "execution_count": 3,
   "id": "cb907a53",
   "metadata": {
    "execution": {
     "iopub.execute_input": "2024-05-02T01:04:35.402704Z",
     "iopub.status.busy": "2024-05-02T01:04:35.402449Z",
     "iopub.status.idle": "2024-05-02T01:04:35.406712Z",
     "shell.execute_reply": "2024-05-02T01:04:35.405903Z"
    },
    "papermill": {
     "duration": 0.014528,
     "end_time": "2024-05-02T01:04:35.408634",
     "exception": false,
     "start_time": "2024-05-02T01:04:35.394106",
     "status": "completed"
    },
    "tags": []
   },
   "outputs": [],
   "source": [
    "keras.utils.set_random_seed(CFG.seed)\n",
    "keras.mixed_precision.set_global_policy('float32')"
   ]
  },
  {
   "cell_type": "markdown",
   "id": "74826c77",
   "metadata": {
    "papermill": {
     "duration": 0.007217,
     "end_time": "2024-05-02T01:04:35.423491",
     "exception": false,
     "start_time": "2024-05-02T01:04:35.416274",
     "status": "completed"
    },
    "tags": []
   },
   "source": [
    "### Load Data"
   ]
  },
  {
   "cell_type": "code",
   "execution_count": 4,
   "id": "0280b517",
   "metadata": {
    "execution": {
     "iopub.execute_input": "2024-05-02T01:04:35.439495Z",
     "iopub.status.busy": "2024-05-02T01:04:35.439225Z",
     "iopub.status.idle": "2024-05-02T01:04:36.470678Z",
     "shell.execute_reply": "2024-05-02T01:04:36.469893Z"
    },
    "papermill": {
     "duration": 1.041884,
     "end_time": "2024-05-02T01:04:36.472965",
     "exception": false,
     "start_time": "2024-05-02T01:04:35.431081",
     "status": "completed"
    },
    "tags": []
   },
   "outputs": [],
   "source": [
    "BASE_PATH = '/kaggle/input/learning-agency-lab-automated-essay-scoring-2'\n",
    "\n",
    "df = pd.read_csv(f'{BASE_PATH}/train.csv')"
   ]
  },
  {
   "cell_type": "code",
   "execution_count": 5,
   "id": "be2f3558",
   "metadata": {
    "execution": {
     "iopub.execute_input": "2024-05-02T01:04:36.491294Z",
     "iopub.status.busy": "2024-05-02T01:04:36.490614Z",
     "iopub.status.idle": "2024-05-02T01:04:37.249620Z",
     "shell.execute_reply": "2024-05-02T01:04:37.248663Z"
    },
    "papermill": {
     "duration": 0.769819,
     "end_time": "2024-05-02T01:04:37.251899",
     "exception": false,
     "start_time": "2024-05-02T01:04:36.482080",
     "status": "completed"
    },
    "tags": []
   },
   "outputs": [],
   "source": [
    "from sklearn.model_selection import train_test_split\n",
    "train_df, valid_df = train_test_split(df, test_size=0.2, stratify=df['score'])"
   ]
  },
  {
   "cell_type": "code",
   "execution_count": 6,
   "id": "a947380e",
   "metadata": {
    "execution": {
     "iopub.execute_input": "2024-05-02T01:04:37.269435Z",
     "iopub.status.busy": "2024-05-02T01:04:37.268743Z",
     "iopub.status.idle": "2024-05-02T01:04:37.281787Z",
     "shell.execute_reply": "2024-05-02T01:04:37.280901Z"
    },
    "papermill": {
     "duration": 0.023831,
     "end_time": "2024-05-02T01:04:37.283792",
     "exception": false,
     "start_time": "2024-05-02T01:04:37.259961",
     "status": "completed"
    },
    "tags": []
   },
   "outputs": [
    {
     "data": {
      "text/plain": [
       "score\n",
       "3    5024\n",
       "2    3778\n",
       "4    3141\n",
       "1    1001\n",
       "5     776\n",
       "6     125\n",
       "Name: count, dtype: int64"
      ]
     },
     "execution_count": 6,
     "metadata": {},
     "output_type": "execute_result"
    }
   ],
   "source": [
    "train_df.score.value_counts()"
   ]
  },
  {
   "cell_type": "markdown",
   "id": "cbac633a",
   "metadata": {
    "papermill": {
     "duration": 0.007455,
     "end_time": "2024-05-02T01:04:37.299703",
     "exception": false,
     "start_time": "2024-05-02T01:04:37.292248",
     "status": "completed"
    },
    "tags": []
   },
   "source": [
    "### Preprocessing"
   ]
  },
  {
   "cell_type": "code",
   "execution_count": 7,
   "id": "c740a395",
   "metadata": {
    "execution": {
     "iopub.execute_input": "2024-05-02T01:04:37.316475Z",
     "iopub.status.busy": "2024-05-02T01:04:37.315826Z",
     "iopub.status.idle": "2024-05-02T01:04:40.093024Z",
     "shell.execute_reply": "2024-05-02T01:04:40.091854Z"
    },
    "papermill": {
     "duration": 2.787916,
     "end_time": "2024-05-02T01:04:40.095284",
     "exception": false,
     "start_time": "2024-05-02T01:04:37.307368",
     "status": "completed"
    },
    "tags": []
   },
   "outputs": [
    {
     "name": "stderr",
     "output_type": "stream",
     "text": [
      "Attaching 'tokenizer.json' from model 'keras/deberta_v3/keras/deberta_v3_extra_small_en/2' to your Kaggle notebook...\n",
      "Attaching 'tokenizer.json' from model 'keras/deberta_v3/keras/deberta_v3_extra_small_en/2' to your Kaggle notebook...\n",
      "Attaching 'assets/tokenizer/vocabulary.spm' from model 'keras/deberta_v3/keras/deberta_v3_extra_small_en/2' to your Kaggle notebook...\n"
     ]
    },
    {
     "name": "stdout",
     "output_type": "stream",
     "text": [
      "token_ids: (512,)\n",
      "padding_mask: (512,)\n"
     ]
    }
   ],
   "source": [
    "preprocessor = keras_nlp.models.DebertaV3Preprocessor.from_preset(\n",
    "    preset=CFG.preset,\n",
    "    sequence_length=CFG.sequence_length\n",
    ")\n",
    "\n",
    "for key, value in preprocessor(\"The quick fox jumped.\").items():\n",
    "    print(f'{key}: {value.shape}')"
   ]
  },
  {
   "cell_type": "markdown",
   "id": "430901dc",
   "metadata": {
    "papermill": {
     "duration": 0.0083,
     "end_time": "2024-05-02T01:04:40.114362",
     "exception": false,
     "start_time": "2024-05-02T01:04:40.106062",
     "status": "completed"
    },
    "tags": []
   },
   "source": [
    "### Model Aids"
   ]
  },
  {
   "cell_type": "code",
   "execution_count": 8,
   "id": "a2e4ccc5",
   "metadata": {
    "execution": {
     "iopub.execute_input": "2024-05-02T01:04:40.133184Z",
     "iopub.status.busy": "2024-05-02T01:04:40.132314Z",
     "iopub.status.idle": "2024-05-02T01:04:40.146160Z",
     "shell.execute_reply": "2024-05-02T01:04:40.145171Z"
    },
    "papermill": {
     "duration": 0.025542,
     "end_time": "2024-05-02T01:04:40.148177",
     "exception": false,
     "start_time": "2024-05-02T01:04:40.122635",
     "status": "completed"
    },
    "tags": []
   },
   "outputs": [],
   "source": [
    "num_classes = 6\n",
    "W = tf.cast(tf.constant([[(j-i)**2 / (num_classes - 1) ** 2 for j in range(num_classes)] for i in range(num_classes)]), 'float32')\n",
    "def weighted_kappa(y_true, y_pred):\n",
    "    # y_true = [item in batch] = correct y\n",
    "    # y_pred = [item in batch, y prediction] = softmax probability\n",
    "    # y_logit = [item in batch, y logit] = one-hot encoded\n",
    "    E_pred = tf.math.reduce_sum(y_pred, axis=0)\n",
    "    E_true = tf.math.reduce_sum(y_true, axis=0)\n",
    "    E = tf.tensordot(E_true, E_pred, 0)\n",
    "    O = tf.tensordot(y_true, y_pred, ([0], [0]))\n",
    "    E /= tf.math.reduce_sum(E)\n",
    "    O /= tf.math.reduce_sum(O)\n",
    "    return 1 - tf.math.reduce_sum(W * O) / tf.math.reduce_sum(W * E)\n",
    "\n",
    "# between 0 and 2, 0 is perfect correct and 2 is perfectly incorrect\n",
    "def anti_weighted_kappa(y_true, y_pred):\n",
    "    return 1 - weighted_kappa(y_true, y_pred)"
   ]
  },
  {
   "cell_type": "markdown",
   "id": "a0b4f91e",
   "metadata": {
    "papermill": {
     "duration": 0.008377,
     "end_time": "2024-05-02T01:04:40.165332",
     "exception": false,
     "start_time": "2024-05-02T01:04:40.156955",
     "status": "completed"
    },
    "tags": []
   },
   "source": [
    "### Model Definition"
   ]
  },
  {
   "cell_type": "code",
   "execution_count": 9,
   "id": "0ec4fd2c",
   "metadata": {
    "execution": {
     "iopub.execute_input": "2024-05-02T01:04:40.183722Z",
     "iopub.status.busy": "2024-05-02T01:04:40.182925Z",
     "iopub.status.idle": "2024-05-02T01:04:45.493653Z",
     "shell.execute_reply": "2024-05-02T01:04:45.492743Z"
    },
    "papermill": {
     "duration": 5.322188,
     "end_time": "2024-05-02T01:04:45.495691",
     "exception": false,
     "start_time": "2024-05-02T01:04:40.173503",
     "status": "completed"
    },
    "tags": []
   },
   "outputs": [
    {
     "name": "stderr",
     "output_type": "stream",
     "text": [
      "Attaching 'config.json' from model 'keras/deberta_v3/keras/deberta_v3_extra_small_en/2' to your Kaggle notebook...\n",
      "Attaching 'config.json' from model 'keras/deberta_v3/keras/deberta_v3_extra_small_en/2' to your Kaggle notebook...\n",
      "Attaching 'model.weights.h5' from model 'keras/deberta_v3/keras/deberta_v3_extra_small_en/2' to your Kaggle notebook...\n"
     ]
    },
    {
     "data": {
      "text/html": [
       "<pre style=\"white-space:pre;overflow-x:auto;line-height:normal;font-family:Menlo,'DejaVu Sans Mono',consolas,'Courier New',monospace\"><span style=\"font-weight: bold\">Model: \"functional_1\"</span>\n",
       "</pre>\n"
      ],
      "text/plain": [
       "\u001b[1mModel: \"functional_1\"\u001b[0m\n"
      ]
     },
     "metadata": {},
     "output_type": "display_data"
    },
    {
     "data": {
      "text/html": [
       "<pre style=\"white-space:pre;overflow-x:auto;line-height:normal;font-family:Menlo,'DejaVu Sans Mono',consolas,'Courier New',monospace\">┏━━━━━━━━━━━━━━━━━━━━━┳━━━━━━━━━━━━━━━━━━━┳━━━━━━━━━━━━┳━━━━━━━━━━━━━━━━━━━┓\n",
       "┃<span style=\"font-weight: bold\"> Layer (type)        </span>┃<span style=\"font-weight: bold\"> Output Shape      </span>┃<span style=\"font-weight: bold\">    Param # </span>┃<span style=\"font-weight: bold\"> Connected to      </span>┃\n",
       "┡━━━━━━━━━━━━━━━━━━━━━╇━━━━━━━━━━━━━━━━━━━╇━━━━━━━━━━━━╇━━━━━━━━━━━━━━━━━━━┩\n",
       "│ padding_mask        │ (<span style=\"color: #00d7ff; text-decoration-color: #00d7ff\">None</span>, <span style=\"color: #00d7ff; text-decoration-color: #00d7ff\">None</span>)      │          <span style=\"color: #00af00; text-decoration-color: #00af00\">0</span> │ -                 │\n",
       "│ (<span style=\"color: #0087ff; text-decoration-color: #0087ff\">InputLayer</span>)        │                   │            │                   │\n",
       "├─────────────────────┼───────────────────┼────────────┼───────────────────┤\n",
       "│ token_ids           │ (<span style=\"color: #00d7ff; text-decoration-color: #00d7ff\">None</span>, <span style=\"color: #00d7ff; text-decoration-color: #00d7ff\">None</span>)      │          <span style=\"color: #00af00; text-decoration-color: #00af00\">0</span> │ -                 │\n",
       "│ (<span style=\"color: #0087ff; text-decoration-color: #0087ff\">InputLayer</span>)        │                   │            │                   │\n",
       "├─────────────────────┼───────────────────┼────────────┼───────────────────┤\n",
       "│ deberta_v3_classif… │ (<span style=\"color: #00d7ff; text-decoration-color: #00d7ff\">None</span>, <span style=\"color: #00af00; text-decoration-color: #00af00\">6</span>)         │ <span style=\"color: #00af00; text-decoration-color: #00af00\">70,832,262</span> │ padding_mask[<span style=\"color: #00af00; text-decoration-color: #00af00\">0</span>][<span style=\"color: #00af00; text-decoration-color: #00af00\">…</span> │\n",
       "│ (<span style=\"color: #0087ff; text-decoration-color: #0087ff\">DebertaV3Classifi…</span> │                   │            │ token_ids[<span style=\"color: #00af00; text-decoration-color: #00af00\">0</span>][<span style=\"color: #00af00; text-decoration-color: #00af00\">0</span>]   │\n",
       "└─────────────────────┴───────────────────┴────────────┴───────────────────┘\n",
       "</pre>\n"
      ],
      "text/plain": [
       "┏━━━━━━━━━━━━━━━━━━━━━┳━━━━━━━━━━━━━━━━━━━┳━━━━━━━━━━━━┳━━━━━━━━━━━━━━━━━━━┓\n",
       "┃\u001b[1m \u001b[0m\u001b[1mLayer (type)       \u001b[0m\u001b[1m \u001b[0m┃\u001b[1m \u001b[0m\u001b[1mOutput Shape     \u001b[0m\u001b[1m \u001b[0m┃\u001b[1m \u001b[0m\u001b[1m   Param #\u001b[0m\u001b[1m \u001b[0m┃\u001b[1m \u001b[0m\u001b[1mConnected to     \u001b[0m\u001b[1m \u001b[0m┃\n",
       "┡━━━━━━━━━━━━━━━━━━━━━╇━━━━━━━━━━━━━━━━━━━╇━━━━━━━━━━━━╇━━━━━━━━━━━━━━━━━━━┩\n",
       "│ padding_mask        │ (\u001b[38;5;45mNone\u001b[0m, \u001b[38;5;45mNone\u001b[0m)      │          \u001b[38;5;34m0\u001b[0m │ -                 │\n",
       "│ (\u001b[38;5;33mInputLayer\u001b[0m)        │                   │            │                   │\n",
       "├─────────────────────┼───────────────────┼────────────┼───────────────────┤\n",
       "│ token_ids           │ (\u001b[38;5;45mNone\u001b[0m, \u001b[38;5;45mNone\u001b[0m)      │          \u001b[38;5;34m0\u001b[0m │ -                 │\n",
       "│ (\u001b[38;5;33mInputLayer\u001b[0m)        │                   │            │                   │\n",
       "├─────────────────────┼───────────────────┼────────────┼───────────────────┤\n",
       "│ deberta_v3_classif… │ (\u001b[38;5;45mNone\u001b[0m, \u001b[38;5;34m6\u001b[0m)         │ \u001b[38;5;34m70,832,262\u001b[0m │ padding_mask[\u001b[38;5;34m0\u001b[0m][\u001b[38;5;34m…\u001b[0m │\n",
       "│ (\u001b[38;5;33mDebertaV3Classifi…\u001b[0m │                   │            │ token_ids[\u001b[38;5;34m0\u001b[0m][\u001b[38;5;34m0\u001b[0m]   │\n",
       "└─────────────────────┴───────────────────┴────────────┴───────────────────┘\n"
      ]
     },
     "metadata": {},
     "output_type": "display_data"
    },
    {
     "data": {
      "text/html": [
       "<pre style=\"white-space:pre;overflow-x:auto;line-height:normal;font-family:Menlo,'DejaVu Sans Mono',consolas,'Courier New',monospace\"><span style=\"font-weight: bold\"> Total params: </span><span style=\"color: #00af00; text-decoration-color: #00af00\">70,832,262</span> (270.20 MB)\n",
       "</pre>\n"
      ],
      "text/plain": [
       "\u001b[1m Total params: \u001b[0m\u001b[38;5;34m70,832,262\u001b[0m (270.20 MB)\n"
      ]
     },
     "metadata": {},
     "output_type": "display_data"
    },
    {
     "data": {
      "text/html": [
       "<pre style=\"white-space:pre;overflow-x:auto;line-height:normal;font-family:Menlo,'DejaVu Sans Mono',consolas,'Courier New',monospace\"><span style=\"font-weight: bold\"> Trainable params: </span><span style=\"color: #00af00; text-decoration-color: #00af00\">70,832,262</span> (270.20 MB)\n",
       "</pre>\n"
      ],
      "text/plain": [
       "\u001b[1m Trainable params: \u001b[0m\u001b[38;5;34m70,832,262\u001b[0m (270.20 MB)\n"
      ]
     },
     "metadata": {},
     "output_type": "display_data"
    },
    {
     "data": {
      "text/html": [
       "<pre style=\"white-space:pre;overflow-x:auto;line-height:normal;font-family:Menlo,'DejaVu Sans Mono',consolas,'Courier New',monospace\"><span style=\"font-weight: bold\"> Non-trainable params: </span><span style=\"color: #00af00; text-decoration-color: #00af00\">0</span> (0.00 B)\n",
       "</pre>\n"
      ],
      "text/plain": [
       "\u001b[1m Non-trainable params: \u001b[0m\u001b[38;5;34m0\u001b[0m (0.00 B)\n"
      ]
     },
     "metadata": {},
     "output_type": "display_data"
    }
   ],
   "source": [
    "classifier = keras_nlp.models.DebertaV3Classifier.from_preset(\n",
    "    CFG.preset, preprocessor=None, num_classes=6, activation=\"softmax\"\n",
    ")\n",
    "\n",
    "inp = classifier.input\n",
    "logit = classifier(inp)\n",
    "\n",
    "model = keras.Model(inp, logit)\n",
    "model.compile(optimizer=keras.optimizers.RMSprop(learning_rate=CFG.lr_begin), loss=anti_weighted_kappa, metrics=[weighted_kappa, keras.metrics.CategoricalAccuracy()])\n",
    "\n",
    "model.summary()"
   ]
  },
  {
   "cell_type": "code",
   "execution_count": 10,
   "id": "8f5c380d",
   "metadata": {
    "execution": {
     "iopub.execute_input": "2024-05-02T01:04:45.516928Z",
     "iopub.status.busy": "2024-05-02T01:04:45.516072Z",
     "iopub.status.idle": "2024-05-02T01:04:49.886017Z",
     "shell.execute_reply": "2024-05-02T01:04:49.884954Z"
    },
    "papermill": {
     "duration": 4.382497,
     "end_time": "2024-05-02T01:04:49.888161",
     "exception": false,
     "start_time": "2024-05-02T01:04:45.505664",
     "status": "completed"
    },
    "tags": []
   },
   "outputs": [
    {
     "data": {
      "text/plain": [
       "<tf.Tensor: shape=(1, 6), dtype=float32, numpy=\n",
       "array([[0.16138707, 0.19296643, 0.16298348, 0.15415876, 0.19217007,\n",
       "        0.13633417]], dtype=float32)>"
      ]
     },
     "execution_count": 10,
     "metadata": {},
     "output_type": "execute_result"
    }
   ],
   "source": [
    "tmp = preprocessor([\"hello my friend!\"])\n",
    "model(tmp)"
   ]
  },
  {
   "cell_type": "markdown",
   "id": "fb606ebb",
   "metadata": {
    "papermill": {
     "duration": 0.009317,
     "end_time": "2024-05-02T01:04:49.906950",
     "exception": false,
     "start_time": "2024-05-02T01:04:49.897633",
     "status": "completed"
    },
    "tags": []
   },
   "source": [
    "### Data Stream"
   ]
  },
  {
   "cell_type": "code",
   "execution_count": 11,
   "id": "a384d4d6",
   "metadata": {
    "execution": {
     "iopub.execute_input": "2024-05-02T01:04:49.927238Z",
     "iopub.status.busy": "2024-05-02T01:04:49.926867Z",
     "iopub.status.idle": "2024-05-02T01:04:49.933263Z",
     "shell.execute_reply": "2024-05-02T01:04:49.932365Z"
    },
    "papermill": {
     "duration": 0.018993,
     "end_time": "2024-05-02T01:04:49.935212",
     "exception": false,
     "start_time": "2024-05-02T01:04:49.916219",
     "status": "completed"
    },
    "tags": []
   },
   "outputs": [],
   "source": [
    "def build_ds(texts, scores, drop_batch_remainder=False):\n",
    "    inp = preprocessor(texts)\n",
    "    ds = tf.data.Dataset.from_tensor_slices((inp, scores))\n",
    "    ds = ds.prefetch(tf.data.AUTOTUNE)\n",
    "    ds = ds.shuffle(256)\n",
    "    ds = ds.cache()\n",
    "    ds = ds.batch(CFG.batch_size, drop_remainder=drop_batch_remainder)\n",
    "    def one_hot_score(inp, score):\n",
    "        return (inp, tf.one_hot(score, 6))\n",
    "    ds = ds.map(one_hot_score)\n",
    "    return ds"
   ]
  },
  {
   "cell_type": "code",
   "execution_count": 12,
   "id": "e0800a5c",
   "metadata": {
    "execution": {
     "iopub.execute_input": "2024-05-02T01:04:49.955776Z",
     "iopub.status.busy": "2024-05-02T01:04:49.955400Z",
     "iopub.status.idle": "2024-05-02T01:04:54.910367Z",
     "shell.execute_reply": "2024-05-02T01:04:54.909371Z"
    },
    "papermill": {
     "duration": 4.968107,
     "end_time": "2024-05-02T01:04:54.912836",
     "exception": false,
     "start_time": "2024-05-02T01:04:49.944729",
     "status": "completed"
    },
    "tags": []
   },
   "outputs": [],
   "source": [
    "train_ds = build_ds(train_df.full_text.tolist(), np.asarray(train_df.score.tolist())-1, True)\n",
    "\n",
    "val_ds = build_ds(train_df.full_text.tolist(), np.asarray(train_df.score.tolist())-1, False)"
   ]
  },
  {
   "cell_type": "markdown",
   "id": "3c13e390",
   "metadata": {
    "papermill": {
     "duration": 0.009639,
     "end_time": "2024-05-02T01:04:54.932125",
     "exception": false,
     "start_time": "2024-05-02T01:04:54.922486",
     "status": "completed"
    },
    "tags": []
   },
   "source": [
    "### Training"
   ]
  },
  {
   "cell_type": "code",
   "execution_count": 13,
   "id": "d9ae8014",
   "metadata": {
    "execution": {
     "iopub.execute_input": "2024-05-02T01:04:54.952705Z",
     "iopub.status.busy": "2024-05-02T01:04:54.951865Z",
     "iopub.status.idle": "2024-05-02T01:04:54.957397Z",
     "shell.execute_reply": "2024-05-02T01:04:54.956484Z"
    },
    "papermill": {
     "duration": 0.017792,
     "end_time": "2024-05-02T01:04:54.959251",
     "exception": false,
     "start_time": "2024-05-02T01:04:54.941459",
     "status": "completed"
    },
    "tags": []
   },
   "outputs": [],
   "source": [
    "def rate_scheduler(epoch, lr):\n",
    "    lr_max = CFG.lr_max\n",
    "    decay = CFG.lr_decay_rate\n",
    "    ramp_ep = CFG.lr_num_ramp\n",
    "    if epoch < ramp_ep:\n",
    "        return lr + (lr_max - lr) / (ramp_ep - epoch)\n",
    "    else:\n",
    "        return lr * decay"
   ]
  },
  {
   "cell_type": "code",
   "execution_count": 14,
   "id": "8786d614",
   "metadata": {
    "execution": {
     "iopub.execute_input": "2024-05-02T01:04:54.984917Z",
     "iopub.status.busy": "2024-05-02T01:04:54.984534Z",
     "iopub.status.idle": "2024-05-02T01:04:54.993376Z",
     "shell.execute_reply": "2024-05-02T01:04:54.991875Z"
    },
    "papermill": {
     "duration": 0.024502,
     "end_time": "2024-05-02T01:04:54.996697",
     "exception": false,
     "start_time": "2024-05-02T01:04:54.972195",
     "status": "completed"
    },
    "tags": []
   },
   "outputs": [],
   "source": [
    "checkpoint = keras.callbacks.ModelCheckpoint(\"/kaggle/working/v1-{epoch}.weights.h5\", monitor=\"val_loss\", save_weights_only=True)\n",
    "best_checkpoint = keras.callbacks.ModelCheckpoint(\"/kaggle/working/v1.weights.h5\", monitor=\"val_loss\", save_weights_only=True, save_best_only=True)\n",
    "rate_control = keras.callbacks.LearningRateScheduler(rate_scheduler)"
   ]
  },
  {
   "cell_type": "code",
   "execution_count": 15,
   "id": "44af2c6c",
   "metadata": {
    "execution": {
     "iopub.execute_input": "2024-05-02T01:04:55.021295Z",
     "iopub.status.busy": "2024-05-02T01:04:55.020469Z",
     "iopub.status.idle": "2024-05-02T02:17:15.669898Z",
     "shell.execute_reply": "2024-05-02T02:17:15.668973Z"
    },
    "papermill": {
     "duration": 4341.082548,
     "end_time": "2024-05-02T02:17:16.091442",
     "exception": false,
     "start_time": "2024-05-02T01:04:55.008894",
     "status": "completed"
    },
    "tags": []
   },
   "outputs": [
    {
     "name": "stdout",
     "output_type": "stream",
     "text": [
      "Epoch 1/10\n"
     ]
    },
    {
     "name": "stderr",
     "output_type": "stream",
     "text": [
      "WARNING: All log messages before absl::InitializeLog() is called are written to STDERR\n",
      "I0000 00:00:1714612037.703077      68 device_compiler.h:186] Compiled cluster using XLA!  This line is logged at most once for the lifetime of the process.\n",
      "W0000 00:00:1714612037.815553      68 graph_launch.cc:671] Fallback to op-by-op mode because memset node breaks graph update\n"
     ]
    },
    {
     "name": "stdout",
     "output_type": "stream",
     "text": [
      "\u001b[1m  1/432\u001b[0m \u001b[37m━━━━━━━━━━━━━━━━━━━━\u001b[0m \u001b[1m17:10:53\u001b[0m 144s/step - categorical_accuracy: 0.0625 - loss: 1.0044 - weighted_kappa: -0.0044"
     ]
    },
    {
     "name": "stderr",
     "output_type": "stream",
     "text": [
      "W0000 00:00:1714612038.540189      68 graph_launch.cc:671] Fallback to op-by-op mode because memset node breaks graph update\n"
     ]
    },
    {
     "name": "stdout",
     "output_type": "stream",
     "text": [
      "\u001b[1m432/432\u001b[0m \u001b[32m━━━━━━━━━━━━━━━━━━━━\u001b[0m\u001b[37m\u001b[0m \u001b[1m0s\u001b[0m 716ms/step - categorical_accuracy: 0.2023 - loss: 0.7250 - weighted_kappa: 0.2750"
     ]
    },
    {
     "name": "stderr",
     "output_type": "stream",
     "text": [
      "W0000 00:00:1714612453.929000      70 graph_launch.cc:671] Fallback to op-by-op mode because memset node breaks graph update\n"
     ]
    },
    {
     "name": "stdout",
     "output_type": "stream",
     "text": [
      "\u001b[1m432/432\u001b[0m \u001b[32m━━━━━━━━━━━━━━━━━━━━\u001b[0m\u001b[37m\u001b[0m \u001b[1m562s\u001b[0m 970ms/step - categorical_accuracy: 0.2026 - loss: 0.7245 - weighted_kappa: 0.2755 - val_categorical_accuracy: 0.5505 - val_loss: 0.2631 - val_weighted_kappa: 0.7368 - learning_rate: 3.2500e-05\n",
      "Epoch 2/10\n",
      "\u001b[1m432/432\u001b[0m \u001b[32m━━━━━━━━━━━━━━━━━━━━\u001b[0m\u001b[37m\u001b[0m \u001b[1m409s\u001b[0m 947ms/step - categorical_accuracy: 0.5104 - loss: 0.2966 - weighted_kappa: 0.7034 - val_categorical_accuracy: 0.5328 - val_loss: 0.2621 - val_weighted_kappa: 0.7378 - learning_rate: 5.5000e-05\n",
      "Epoch 3/10\n",
      "\u001b[1m432/432\u001b[0m \u001b[32m━━━━━━━━━━━━━━━━━━━━\u001b[0m\u001b[37m\u001b[0m \u001b[1m409s\u001b[0m 947ms/step - categorical_accuracy: 0.5146 - loss: 0.2745 - weighted_kappa: 0.7255 - val_categorical_accuracy: 0.6039 - val_loss: 0.2231 - val_weighted_kappa: 0.7769 - learning_rate: 7.7500e-05\n",
      "Epoch 4/10\n",
      "\u001b[1m432/432\u001b[0m \u001b[32m━━━━━━━━━━━━━━━━━━━━\u001b[0m\u001b[37m\u001b[0m \u001b[1m443s\u001b[0m 949ms/step - categorical_accuracy: 0.5260 - loss: 0.2648 - weighted_kappa: 0.7352 - val_categorical_accuracy: 0.5891 - val_loss: 0.2077 - val_weighted_kappa: 0.7924 - learning_rate: 1.0000e-04\n",
      "Epoch 5/10\n",
      "\u001b[1m432/432\u001b[0m \u001b[32m━━━━━━━━━━━━━━━━━━━━\u001b[0m\u001b[37m\u001b[0m \u001b[1m409s\u001b[0m 948ms/step - categorical_accuracy: 0.5943 - loss: 0.2196 - weighted_kappa: 0.7804 - val_categorical_accuracy: 0.6234 - val_loss: 0.1933 - val_weighted_kappa: 0.8067 - learning_rate: 6.0000e-05\n",
      "Epoch 6/10\n",
      "\u001b[1m432/432\u001b[0m \u001b[32m━━━━━━━━━━━━━━━━━━━━\u001b[0m\u001b[37m\u001b[0m \u001b[1m442s\u001b[0m 948ms/step - categorical_accuracy: 0.6249 - loss: 0.2006 - weighted_kappa: 0.7994 - val_categorical_accuracy: 0.6641 - val_loss: 0.1789 - val_weighted_kappa: 0.8211 - learning_rate: 3.6000e-05\n",
      "Epoch 7/10\n",
      "\u001b[1m432/432\u001b[0m \u001b[32m━━━━━━━━━━━━━━━━━━━━\u001b[0m\u001b[37m\u001b[0m \u001b[1m409s\u001b[0m 947ms/step - categorical_accuracy: 0.6541 - loss: 0.1823 - weighted_kappa: 0.8177 - val_categorical_accuracy: 0.6566 - val_loss: 0.1707 - val_weighted_kappa: 0.8293 - learning_rate: 2.1600e-05\n",
      "Epoch 8/10\n",
      "\u001b[1m432/432\u001b[0m \u001b[32m━━━━━━━━━━━━━━━━━━━━\u001b[0m\u001b[37m\u001b[0m \u001b[1m441s\u001b[0m 946ms/step - categorical_accuracy: 0.6711 - loss: 0.1719 - weighted_kappa: 0.8281 - val_categorical_accuracy: 0.6663 - val_loss: 0.1694 - val_weighted_kappa: 0.8305 - learning_rate: 1.2960e-05\n",
      "Epoch 9/10\n",
      "\u001b[1m432/432\u001b[0m \u001b[32m━━━━━━━━━━━━━━━━━━━━\u001b[0m\u001b[37m\u001b[0m \u001b[1m409s\u001b[0m 947ms/step - categorical_accuracy: 0.6846 - loss: 0.1641 - weighted_kappa: 0.8359 - val_categorical_accuracy: 0.7117 - val_loss: 0.1506 - val_weighted_kappa: 0.8494 - learning_rate: 7.7760e-06\n",
      "Epoch 10/10\n",
      "\u001b[1m432/432\u001b[0m \u001b[32m━━━━━━━━━━━━━━━━━━━━\u001b[0m\u001b[37m\u001b[0m \u001b[1m408s\u001b[0m 944ms/step - categorical_accuracy: 0.6957 - loss: 0.1580 - weighted_kappa: 0.8420 - val_categorical_accuracy: 0.7024 - val_loss: 0.1540 - val_weighted_kappa: 0.8460 - learning_rate: 4.6656e-06\n"
     ]
    }
   ],
   "source": [
    "history = model.fit(train_ds, validation_data=val_ds, epochs=CFG.epochs, callbacks=[checkpoint, rate_control, best_checkpoint])"
   ]
  },
  {
   "cell_type": "markdown",
   "id": "1c77b521",
   "metadata": {
    "papermill": {
     "duration": 0.360567,
     "end_time": "2024-05-02T02:17:16.817041",
     "exception": false,
     "start_time": "2024-05-02T02:17:16.456474",
     "status": "completed"
    },
    "tags": []
   },
   "source": [
    "### Evaluate"
   ]
  },
  {
   "cell_type": "code",
   "execution_count": 16,
   "id": "495c9478",
   "metadata": {
    "execution": {
     "iopub.execute_input": "2024-05-02T02:17:17.542678Z",
     "iopub.status.busy": "2024-05-02T02:17:17.542335Z",
     "iopub.status.idle": "2024-05-02T02:17:17.548031Z",
     "shell.execute_reply": "2024-05-02T02:17:17.547201Z"
    },
    "papermill": {
     "duration": 0.371644,
     "end_time": "2024-05-02T02:17:17.549894",
     "exception": false,
     "start_time": "2024-05-02T02:17:17.178250",
     "status": "completed"
    },
    "tags": []
   },
   "outputs": [],
   "source": [
    "def load_model(path):\n",
    "    classifier = keras_nlp.models.DebertaV3Classifier.from_preset(\n",
    "        CFG.preset, preprocessor=None, num_classes=6, activation=\"softmax\"\n",
    "    )\n",
    "\n",
    "    inp = classifier.input\n",
    "    logit = classifier(inp)\n",
    "\n",
    "    model = keras.Model(inp, logit)\n",
    "\n",
    "    model.load_weights(path)\n",
    "    \n",
    "    return model"
   ]
  },
  {
   "cell_type": "code",
   "execution_count": 17,
   "id": "a01b6b37",
   "metadata": {
    "execution": {
     "iopub.execute_input": "2024-05-02T02:17:18.272096Z",
     "iopub.status.busy": "2024-05-02T02:17:18.271744Z",
     "iopub.status.idle": "2024-05-02T02:17:24.354063Z",
     "shell.execute_reply": "2024-05-02T02:17:24.353270Z"
    },
    "papermill": {
     "duration": 6.445096,
     "end_time": "2024-05-02T02:17:24.356457",
     "exception": false,
     "start_time": "2024-05-02T02:17:17.911361",
     "status": "completed"
    },
    "tags": []
   },
   "outputs": [
    {
     "name": "stderr",
     "output_type": "stream",
     "text": [
      "Attaching 'config.json' from model 'keras/deberta_v3/keras/deberta_v3_extra_small_en/2' to your Kaggle notebook...\n",
      "Attaching 'config.json' from model 'keras/deberta_v3/keras/deberta_v3_extra_small_en/2' to your Kaggle notebook...\n",
      "Attaching 'model.weights.h5' from model 'keras/deberta_v3/keras/deberta_v3_extra_small_en/2' to your Kaggle notebook...\n"
     ]
    }
   ],
   "source": [
    "test_model = load_model(\"v1.weights.h5\")"
   ]
  },
  {
   "cell_type": "code",
   "execution_count": 18,
   "id": "a0e40839",
   "metadata": {
    "execution": {
     "iopub.execute_input": "2024-05-02T02:17:25.099362Z",
     "iopub.status.busy": "2024-05-02T02:17:25.098532Z",
     "iopub.status.idle": "2024-05-02T02:17:25.502497Z",
     "shell.execute_reply": "2024-05-02T02:17:25.501670Z"
    },
    "papermill": {
     "duration": 0.786458,
     "end_time": "2024-05-02T02:17:25.504938",
     "exception": false,
     "start_time": "2024-05-02T02:17:24.718480",
     "status": "completed"
    },
    "tags": []
   },
   "outputs": [],
   "source": [
    "test_df = pd.read_csv(f'{BASE_PATH}/test.csv')\n",
    "test_inp = preprocessor(test_df.full_text.tolist())\n",
    "prob = test_model(test_inp)\n",
    "predict = np.argmax(prob, axis=-1) + 1"
   ]
  },
  {
   "cell_type": "code",
   "execution_count": 19,
   "id": "ac9d2102",
   "metadata": {
    "execution": {
     "iopub.execute_input": "2024-05-02T02:17:26.292380Z",
     "iopub.status.busy": "2024-05-02T02:17:26.291521Z",
     "iopub.status.idle": "2024-05-02T02:17:26.296654Z",
     "shell.execute_reply": "2024-05-02T02:17:26.295757Z"
    },
    "papermill": {
     "duration": 0.368633,
     "end_time": "2024-05-02T02:17:26.298625",
     "exception": false,
     "start_time": "2024-05-02T02:17:25.929992",
     "status": "completed"
    },
    "tags": []
   },
   "outputs": [],
   "source": [
    "out_df = pd.DataFrame({\n",
    "    'essay_id': test_df.essay_id,\n",
    "    'score': predict\n",
    "})"
   ]
  },
  {
   "cell_type": "code",
   "execution_count": 20,
   "id": "1a699d4c",
   "metadata": {
    "execution": {
     "iopub.execute_input": "2024-05-02T02:17:27.021968Z",
     "iopub.status.busy": "2024-05-02T02:17:27.021644Z",
     "iopub.status.idle": "2024-05-02T02:17:27.028584Z",
     "shell.execute_reply": "2024-05-02T02:17:27.027692Z"
    },
    "papermill": {
     "duration": 0.374018,
     "end_time": "2024-05-02T02:17:27.030464",
     "exception": false,
     "start_time": "2024-05-02T02:17:26.656446",
     "status": "completed"
    },
    "tags": []
   },
   "outputs": [],
   "source": [
    "out_df.to_csv(\"submission.csv\")"
   ]
  },
  {
   "cell_type": "code",
   "execution_count": 21,
   "id": "3b0bf0e0",
   "metadata": {
    "execution": {
     "iopub.execute_input": "2024-05-02T02:17:27.767335Z",
     "iopub.status.busy": "2024-05-02T02:17:27.766968Z",
     "iopub.status.idle": "2024-05-02T02:17:27.779042Z",
     "shell.execute_reply": "2024-05-02T02:17:27.778200Z"
    },
    "papermill": {
     "duration": 0.382583,
     "end_time": "2024-05-02T02:17:27.780954",
     "exception": false,
     "start_time": "2024-05-02T02:17:27.398371",
     "status": "completed"
    },
    "tags": []
   },
   "outputs": [
    {
     "data": {
      "text/html": [
       "<div>\n",
       "<style scoped>\n",
       "    .dataframe tbody tr th:only-of-type {\n",
       "        vertical-align: middle;\n",
       "    }\n",
       "\n",
       "    .dataframe tbody tr th {\n",
       "        vertical-align: top;\n",
       "    }\n",
       "\n",
       "    .dataframe thead th {\n",
       "        text-align: right;\n",
       "    }\n",
       "</style>\n",
       "<table border=\"1\" class=\"dataframe\">\n",
       "  <thead>\n",
       "    <tr style=\"text-align: right;\">\n",
       "      <th></th>\n",
       "      <th>essay_id</th>\n",
       "      <th>score</th>\n",
       "    </tr>\n",
       "  </thead>\n",
       "  <tbody>\n",
       "    <tr>\n",
       "      <th>0</th>\n",
       "      <td>000d118</td>\n",
       "      <td>3</td>\n",
       "    </tr>\n",
       "    <tr>\n",
       "      <th>1</th>\n",
       "      <td>000fe60</td>\n",
       "      <td>3</td>\n",
       "    </tr>\n",
       "    <tr>\n",
       "      <th>2</th>\n",
       "      <td>001ab80</td>\n",
       "      <td>5</td>\n",
       "    </tr>\n",
       "  </tbody>\n",
       "</table>\n",
       "</div>"
      ],
      "text/plain": [
       "  essay_id  score\n",
       "0  000d118      3\n",
       "1  000fe60      3\n",
       "2  001ab80      5"
      ]
     },
     "execution_count": 21,
     "metadata": {},
     "output_type": "execute_result"
    }
   ],
   "source": [
    "out_df"
   ]
  },
  {
   "cell_type": "code",
   "execution_count": null,
   "id": "031068b1",
   "metadata": {
    "papermill": {
     "duration": 0.359509,
     "end_time": "2024-05-02T02:17:28.504126",
     "exception": false,
     "start_time": "2024-05-02T02:17:28.144617",
     "status": "completed"
    },
    "tags": []
   },
   "outputs": [],
   "source": []
  }
 ],
 "metadata": {
  "kaggle": {
   "accelerator": "gpu",
   "dataSources": [
    {
     "databundleVersionId": 8059942,
     "sourceId": 71485,
     "sourceType": "competition"
    },
    {
     "modelInstanceId": 4684,
     "sourceId": 6063,
     "sourceType": "modelInstanceVersion"
    }
   ],
   "dockerImageVersionId": 30698,
   "isGpuEnabled": true,
   "isInternetEnabled": false,
   "language": "python",
   "sourceType": "notebook"
  },
  "kernelspec": {
   "display_name": "Python 3",
   "language": "python",
   "name": "python3"
  },
  "language_info": {
   "codemirror_mode": {
    "name": "ipython",
    "version": 3
   },
   "file_extension": ".py",
   "mimetype": "text/x-python",
   "name": "python",
   "nbconvert_exporter": "python",
   "pygments_lexer": "ipython3",
   "version": "3.10.13"
  },
  "papermill": {
   "default_parameters": {},
   "duration": 4394.623537,
   "end_time": "2024-05-02T02:17:32.313305",
   "environment_variables": {},
   "exception": null,
   "input_path": "__notebook__.ipynb",
   "output_path": "__notebook__.ipynb",
   "parameters": {},
   "start_time": "2024-05-02T01:04:17.689768",
   "version": "2.5.0"
  }
 },
 "nbformat": 4,
 "nbformat_minor": 5
}
