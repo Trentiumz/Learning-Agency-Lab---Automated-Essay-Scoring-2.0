{
 "cells": [
  {
   "cell_type": "code",
   "execution_count": 1,
   "id": "0b7223c7",
   "metadata": {
    "_cell_guid": "b1076dfc-b9ad-4769-8c92-a6c4dae69d19",
    "_uuid": "8f2839f25d086af736a60e9eeb907d3b93b6e0e5",
    "execution": {
     "iopub.execute_input": "2024-05-02T10:22:07.403644Z",
     "iopub.status.busy": "2024-05-02T10:22:07.403382Z",
     "iopub.status.idle": "2024-05-02T10:22:20.908515Z",
     "shell.execute_reply": "2024-05-02T10:22:20.907567Z"
    },
    "papermill": {
     "duration": 13.516658,
     "end_time": "2024-05-02T10:22:20.910944",
     "exception": false,
     "start_time": "2024-05-02T10:22:07.394286",
     "status": "completed"
    },
    "tags": []
   },
   "outputs": [
    {
     "name": "stderr",
     "output_type": "stream",
     "text": [
      "2024-05-02 10:22:09.119357: E external/local_xla/xla/stream_executor/cuda/cuda_dnn.cc:9261] Unable to register cuDNN factory: Attempting to register factory for plugin cuDNN when one has already been registered\n",
      "2024-05-02 10:22:09.119450: E external/local_xla/xla/stream_executor/cuda/cuda_fft.cc:607] Unable to register cuFFT factory: Attempting to register factory for plugin cuFFT when one has already been registered\n",
      "2024-05-02 10:22:09.251223: E external/local_xla/xla/stream_executor/cuda/cuda_blas.cc:1515] Unable to register cuBLAS factory: Attempting to register factory for plugin cuBLAS when one has already been registered\n"
     ]
    }
   ],
   "source": [
    "import os\n",
    "os.environ['KERAS_BACKEND'] = 'tensorflow'\n",
    "\n",
    "import keras_nlp\n",
    "import keras\n",
    "import keras.backend as K\n",
    "import tensorflow as tf\n",
    "\n",
    "import numpy as np\n",
    "import pandas as pd\n",
    "\n",
    "import matplotlib.pyplot as plt\n",
    "import matplotlib as mpl\n",
    "\n",
    "cmap = mpl.colormaps['coolwarm']"
   ]
  },
  {
   "cell_type": "markdown",
   "id": "4478fec2",
   "metadata": {
    "papermill": {
     "duration": 0.007582,
     "end_time": "2024-05-02T10:22:20.926579",
     "exception": false,
     "start_time": "2024-05-02T10:22:20.918997",
     "status": "completed"
    },
    "tags": []
   },
   "source": [
    "### Configuration"
   ]
  },
  {
   "cell_type": "code",
   "execution_count": 2,
   "id": "fed48d65",
   "metadata": {
    "execution": {
     "iopub.execute_input": "2024-05-02T10:22:20.943225Z",
     "iopub.status.busy": "2024-05-02T10:22:20.942703Z",
     "iopub.status.idle": "2024-05-02T10:22:20.947712Z",
     "shell.execute_reply": "2024-05-02T10:22:20.946882Z"
    },
    "papermill": {
     "duration": 0.01532,
     "end_time": "2024-05-02T10:22:20.949682",
     "exception": false,
     "start_time": "2024-05-02T10:22:20.934362",
     "status": "completed"
    },
    "tags": []
   },
   "outputs": [],
   "source": [
    "class CFG:\n",
    "    seed = 42\n",
    "    preset = 'deberta_v3_extra_small_en'\n",
    "    sequence_length = 512\n",
    "    batch_size = 32\n",
    "    scheduler = 'exp'\n",
    "    cache = False\n",
    "    \n",
    "    lr_begin = 1e-5\n",
    "    lr_max = 1e-4\n",
    "    lr_num_ramp = 4\n",
    "    lr_decay_rate = 0.6\n",
    "    epochs = 15"
   ]
  },
  {
   "cell_type": "code",
   "execution_count": 3,
   "id": "eeb21c44",
   "metadata": {
    "execution": {
     "iopub.execute_input": "2024-05-02T10:22:20.965867Z",
     "iopub.status.busy": "2024-05-02T10:22:20.965590Z",
     "iopub.status.idle": "2024-05-02T10:22:20.969739Z",
     "shell.execute_reply": "2024-05-02T10:22:20.968925Z"
    },
    "papermill": {
     "duration": 0.014351,
     "end_time": "2024-05-02T10:22:20.971606",
     "exception": false,
     "start_time": "2024-05-02T10:22:20.957255",
     "status": "completed"
    },
    "tags": []
   },
   "outputs": [],
   "source": [
    "keras.utils.set_random_seed(CFG.seed)\n",
    "keras.mixed_precision.set_global_policy('float32')"
   ]
  },
  {
   "cell_type": "markdown",
   "id": "fd8219fd",
   "metadata": {
    "papermill": {
     "duration": 0.007339,
     "end_time": "2024-05-02T10:22:20.986960",
     "exception": false,
     "start_time": "2024-05-02T10:22:20.979621",
     "status": "completed"
    },
    "tags": []
   },
   "source": [
    "### Load Data"
   ]
  },
  {
   "cell_type": "code",
   "execution_count": 4,
   "id": "3caa1625",
   "metadata": {
    "execution": {
     "iopub.execute_input": "2024-05-02T10:22:21.003164Z",
     "iopub.status.busy": "2024-05-02T10:22:21.002903Z",
     "iopub.status.idle": "2024-05-02T10:22:21.987902Z",
     "shell.execute_reply": "2024-05-02T10:22:21.987069Z"
    },
    "papermill": {
     "duration": 0.995507,
     "end_time": "2024-05-02T10:22:21.990125",
     "exception": false,
     "start_time": "2024-05-02T10:22:20.994618",
     "status": "completed"
    },
    "tags": []
   },
   "outputs": [],
   "source": [
    "BASE_PATH = '/kaggle/input/learning-agency-lab-automated-essay-scoring-2'\n",
    "\n",
    "df = pd.read_csv(f'{BASE_PATH}/train.csv')"
   ]
  },
  {
   "cell_type": "code",
   "execution_count": 5,
   "id": "bf5e001f",
   "metadata": {
    "execution": {
     "iopub.execute_input": "2024-05-02T10:22:22.007754Z",
     "iopub.status.busy": "2024-05-02T10:22:22.007465Z",
     "iopub.status.idle": "2024-05-02T10:22:22.757826Z",
     "shell.execute_reply": "2024-05-02T10:22:22.757053Z"
    },
    "papermill": {
     "duration": 0.761286,
     "end_time": "2024-05-02T10:22:22.760158",
     "exception": false,
     "start_time": "2024-05-02T10:22:21.998872",
     "status": "completed"
    },
    "tags": []
   },
   "outputs": [],
   "source": [
    "from sklearn.model_selection import train_test_split\n",
    "train_df, valid_df = train_test_split(df, test_size=0.2, stratify=df['score'])"
   ]
  },
  {
   "cell_type": "code",
   "execution_count": 6,
   "id": "0ab51edc",
   "metadata": {
    "execution": {
     "iopub.execute_input": "2024-05-02T10:22:22.776792Z",
     "iopub.status.busy": "2024-05-02T10:22:22.776498Z",
     "iopub.status.idle": "2024-05-02T10:22:22.788599Z",
     "shell.execute_reply": "2024-05-02T10:22:22.787658Z"
    },
    "papermill": {
     "duration": 0.0229,
     "end_time": "2024-05-02T10:22:22.790880",
     "exception": false,
     "start_time": "2024-05-02T10:22:22.767980",
     "status": "completed"
    },
    "tags": []
   },
   "outputs": [
    {
     "data": {
      "text/plain": [
       "score\n",
       "3    5024\n",
       "2    3778\n",
       "4    3141\n",
       "1    1001\n",
       "5     776\n",
       "6     125\n",
       "Name: count, dtype: int64"
      ]
     },
     "execution_count": 6,
     "metadata": {},
     "output_type": "execute_result"
    }
   ],
   "source": [
    "train_df.score.value_counts()"
   ]
  },
  {
   "cell_type": "markdown",
   "id": "50c96db9",
   "metadata": {
    "papermill": {
     "duration": 0.00744,
     "end_time": "2024-05-02T10:22:22.806137",
     "exception": false,
     "start_time": "2024-05-02T10:22:22.798697",
     "status": "completed"
    },
    "tags": []
   },
   "source": [
    "### Preprocessing"
   ]
  },
  {
   "cell_type": "code",
   "execution_count": 7,
   "id": "f3afb905",
   "metadata": {
    "execution": {
     "iopub.execute_input": "2024-05-02T10:22:22.822469Z",
     "iopub.status.busy": "2024-05-02T10:22:22.822172Z",
     "iopub.status.idle": "2024-05-02T10:22:25.502216Z",
     "shell.execute_reply": "2024-05-02T10:22:25.501141Z"
    },
    "papermill": {
     "duration": 2.69072,
     "end_time": "2024-05-02T10:22:25.504474",
     "exception": false,
     "start_time": "2024-05-02T10:22:22.813754",
     "status": "completed"
    },
    "tags": []
   },
   "outputs": [
    {
     "name": "stderr",
     "output_type": "stream",
     "text": [
      "Attaching 'tokenizer.json' from model 'keras/deberta_v3/keras/deberta_v3_extra_small_en/2' to your Kaggle notebook...\n",
      "Attaching 'tokenizer.json' from model 'keras/deberta_v3/keras/deberta_v3_extra_small_en/2' to your Kaggle notebook...\n",
      "Attaching 'assets/tokenizer/vocabulary.spm' from model 'keras/deberta_v3/keras/deberta_v3_extra_small_en/2' to your Kaggle notebook...\n"
     ]
    },
    {
     "name": "stdout",
     "output_type": "stream",
     "text": [
      "token_ids: (512,)\n",
      "padding_mask: (512,)\n"
     ]
    }
   ],
   "source": [
    "preprocessor = keras_nlp.models.DebertaV3Preprocessor.from_preset(\n",
    "    preset=CFG.preset,\n",
    "    sequence_length=CFG.sequence_length\n",
    ")\n",
    "\n",
    "for key, value in preprocessor(\"The quick fox jumped.\").items():\n",
    "    print(f'{key}: {value.shape}')"
   ]
  },
  {
   "cell_type": "markdown",
   "id": "4a396955",
   "metadata": {
    "papermill": {
     "duration": 0.007692,
     "end_time": "2024-05-02T10:22:25.520514",
     "exception": false,
     "start_time": "2024-05-02T10:22:25.512822",
     "status": "completed"
    },
    "tags": []
   },
   "source": [
    "### Model Aids"
   ]
  },
  {
   "cell_type": "code",
   "execution_count": 8,
   "id": "f629417a",
   "metadata": {
    "execution": {
     "iopub.execute_input": "2024-05-02T10:22:25.537706Z",
     "iopub.status.busy": "2024-05-02T10:22:25.537411Z",
     "iopub.status.idle": "2024-05-02T10:22:25.549637Z",
     "shell.execute_reply": "2024-05-02T10:22:25.548714Z"
    },
    "papermill": {
     "duration": 0.023264,
     "end_time": "2024-05-02T10:22:25.551562",
     "exception": false,
     "start_time": "2024-05-02T10:22:25.528298",
     "status": "completed"
    },
    "tags": []
   },
   "outputs": [],
   "source": [
    "num_classes = 6\n",
    "W = tf.cast(tf.constant([[(j-i)**2 / (num_classes - 1) ** 2 for j in range(num_classes)] for i in range(num_classes)]), 'float32')\n",
    "def weighted_kappa(y_true, y_pred):\n",
    "    # y_true = [item in batch] = correct y\n",
    "    # y_pred = [item in batch, y prediction] = softmax probability\n",
    "    # y_logit = [item in batch, y logit] = one-hot encoded\n",
    "    E_pred = tf.math.reduce_sum(y_pred, axis=0)\n",
    "    E_true = tf.math.reduce_sum(y_true, axis=0)\n",
    "    E = tf.tensordot(E_true, E_pred, 0)\n",
    "    O = tf.tensordot(y_true, y_pred, ([0], [0]))\n",
    "    E /= tf.math.reduce_sum(E)\n",
    "    O /= tf.math.reduce_sum(O)\n",
    "    return 1 - tf.math.reduce_sum(W * O) / tf.math.reduce_sum(W * E)\n",
    "\n",
    "# between 0 and 2, 0 is perfect correct and 2 is perfectly incorrect\n",
    "def anti_weighted_kappa(y_true, y_pred):\n",
    "    return 1 - weighted_kappa(y_true, y_pred)"
   ]
  },
  {
   "cell_type": "markdown",
   "id": "6d600bb8",
   "metadata": {
    "papermill": {
     "duration": 0.007791,
     "end_time": "2024-05-02T10:22:25.567627",
     "exception": false,
     "start_time": "2024-05-02T10:22:25.559836",
     "status": "completed"
    },
    "tags": []
   },
   "source": [
    "### Model Definition"
   ]
  },
  {
   "cell_type": "code",
   "execution_count": 9,
   "id": "36007768",
   "metadata": {
    "execution": {
     "iopub.execute_input": "2024-05-02T10:22:25.584841Z",
     "iopub.status.busy": "2024-05-02T10:22:25.584255Z",
     "iopub.status.idle": "2024-05-02T10:22:30.981223Z",
     "shell.execute_reply": "2024-05-02T10:22:30.980256Z"
    },
    "papermill": {
     "duration": 5.407527,
     "end_time": "2024-05-02T10:22:30.983151",
     "exception": false,
     "start_time": "2024-05-02T10:22:25.575624",
     "status": "completed"
    },
    "tags": []
   },
   "outputs": [
    {
     "name": "stderr",
     "output_type": "stream",
     "text": [
      "Attaching 'config.json' from model 'keras/deberta_v3/keras/deberta_v3_extra_small_en/2' to your Kaggle notebook...\n",
      "Attaching 'config.json' from model 'keras/deberta_v3/keras/deberta_v3_extra_small_en/2' to your Kaggle notebook...\n",
      "Attaching 'model.weights.h5' from model 'keras/deberta_v3/keras/deberta_v3_extra_small_en/2' to your Kaggle notebook...\n"
     ]
    },
    {
     "data": {
      "text/html": [
       "<pre style=\"white-space:pre;overflow-x:auto;line-height:normal;font-family:Menlo,'DejaVu Sans Mono',consolas,'Courier New',monospace\"><span style=\"font-weight: bold\">Model: \"functional_1\"</span>\n",
       "</pre>\n"
      ],
      "text/plain": [
       "\u001b[1mModel: \"functional_1\"\u001b[0m\n"
      ]
     },
     "metadata": {},
     "output_type": "display_data"
    },
    {
     "data": {
      "text/html": [
       "<pre style=\"white-space:pre;overflow-x:auto;line-height:normal;font-family:Menlo,'DejaVu Sans Mono',consolas,'Courier New',monospace\">┏━━━━━━━━━━━━━━━━━━━━━┳━━━━━━━━━━━━━━━━━━━┳━━━━━━━━━━━━┳━━━━━━━━━━━━━━━━━━━┓\n",
       "┃<span style=\"font-weight: bold\"> Layer (type)        </span>┃<span style=\"font-weight: bold\"> Output Shape      </span>┃<span style=\"font-weight: bold\">    Param # </span>┃<span style=\"font-weight: bold\"> Connected to      </span>┃\n",
       "┡━━━━━━━━━━━━━━━━━━━━━╇━━━━━━━━━━━━━━━━━━━╇━━━━━━━━━━━━╇━━━━━━━━━━━━━━━━━━━┩\n",
       "│ padding_mask        │ (<span style=\"color: #00d7ff; text-decoration-color: #00d7ff\">None</span>, <span style=\"color: #00d7ff; text-decoration-color: #00d7ff\">None</span>)      │          <span style=\"color: #00af00; text-decoration-color: #00af00\">0</span> │ -                 │\n",
       "│ (<span style=\"color: #0087ff; text-decoration-color: #0087ff\">InputLayer</span>)        │                   │            │                   │\n",
       "├─────────────────────┼───────────────────┼────────────┼───────────────────┤\n",
       "│ token_ids           │ (<span style=\"color: #00d7ff; text-decoration-color: #00d7ff\">None</span>, <span style=\"color: #00d7ff; text-decoration-color: #00d7ff\">None</span>)      │          <span style=\"color: #00af00; text-decoration-color: #00af00\">0</span> │ -                 │\n",
       "│ (<span style=\"color: #0087ff; text-decoration-color: #0087ff\">InputLayer</span>)        │                   │            │                   │\n",
       "├─────────────────────┼───────────────────┼────────────┼───────────────────┤\n",
       "│ deberta_v3_classif… │ (<span style=\"color: #00d7ff; text-decoration-color: #00d7ff\">None</span>, <span style=\"color: #00af00; text-decoration-color: #00af00\">6</span>)         │ <span style=\"color: #00af00; text-decoration-color: #00af00\">70,832,262</span> │ padding_mask[<span style=\"color: #00af00; text-decoration-color: #00af00\">0</span>][<span style=\"color: #00af00; text-decoration-color: #00af00\">…</span> │\n",
       "│ (<span style=\"color: #0087ff; text-decoration-color: #0087ff\">DebertaV3Classifi…</span> │                   │            │ token_ids[<span style=\"color: #00af00; text-decoration-color: #00af00\">0</span>][<span style=\"color: #00af00; text-decoration-color: #00af00\">0</span>]   │\n",
       "└─────────────────────┴───────────────────┴────────────┴───────────────────┘\n",
       "</pre>\n"
      ],
      "text/plain": [
       "┏━━━━━━━━━━━━━━━━━━━━━┳━━━━━━━━━━━━━━━━━━━┳━━━━━━━━━━━━┳━━━━━━━━━━━━━━━━━━━┓\n",
       "┃\u001b[1m \u001b[0m\u001b[1mLayer (type)       \u001b[0m\u001b[1m \u001b[0m┃\u001b[1m \u001b[0m\u001b[1mOutput Shape     \u001b[0m\u001b[1m \u001b[0m┃\u001b[1m \u001b[0m\u001b[1m   Param #\u001b[0m\u001b[1m \u001b[0m┃\u001b[1m \u001b[0m\u001b[1mConnected to     \u001b[0m\u001b[1m \u001b[0m┃\n",
       "┡━━━━━━━━━━━━━━━━━━━━━╇━━━━━━━━━━━━━━━━━━━╇━━━━━━━━━━━━╇━━━━━━━━━━━━━━━━━━━┩\n",
       "│ padding_mask        │ (\u001b[38;5;45mNone\u001b[0m, \u001b[38;5;45mNone\u001b[0m)      │          \u001b[38;5;34m0\u001b[0m │ -                 │\n",
       "│ (\u001b[38;5;33mInputLayer\u001b[0m)        │                   │            │                   │\n",
       "├─────────────────────┼───────────────────┼────────────┼───────────────────┤\n",
       "│ token_ids           │ (\u001b[38;5;45mNone\u001b[0m, \u001b[38;5;45mNone\u001b[0m)      │          \u001b[38;5;34m0\u001b[0m │ -                 │\n",
       "│ (\u001b[38;5;33mInputLayer\u001b[0m)        │                   │            │                   │\n",
       "├─────────────────────┼───────────────────┼────────────┼───────────────────┤\n",
       "│ deberta_v3_classif… │ (\u001b[38;5;45mNone\u001b[0m, \u001b[38;5;34m6\u001b[0m)         │ \u001b[38;5;34m70,832,262\u001b[0m │ padding_mask[\u001b[38;5;34m0\u001b[0m][\u001b[38;5;34m…\u001b[0m │\n",
       "│ (\u001b[38;5;33mDebertaV3Classifi…\u001b[0m │                   │            │ token_ids[\u001b[38;5;34m0\u001b[0m][\u001b[38;5;34m0\u001b[0m]   │\n",
       "└─────────────────────┴───────────────────┴────────────┴───────────────────┘\n"
      ]
     },
     "metadata": {},
     "output_type": "display_data"
    },
    {
     "data": {
      "text/html": [
       "<pre style=\"white-space:pre;overflow-x:auto;line-height:normal;font-family:Menlo,'DejaVu Sans Mono',consolas,'Courier New',monospace\"><span style=\"font-weight: bold\"> Total params: </span><span style=\"color: #00af00; text-decoration-color: #00af00\">70,832,262</span> (270.20 MB)\n",
       "</pre>\n"
      ],
      "text/plain": [
       "\u001b[1m Total params: \u001b[0m\u001b[38;5;34m70,832,262\u001b[0m (270.20 MB)\n"
      ]
     },
     "metadata": {},
     "output_type": "display_data"
    },
    {
     "data": {
      "text/html": [
       "<pre style=\"white-space:pre;overflow-x:auto;line-height:normal;font-family:Menlo,'DejaVu Sans Mono',consolas,'Courier New',monospace\"><span style=\"font-weight: bold\"> Trainable params: </span><span style=\"color: #00af00; text-decoration-color: #00af00\">70,832,262</span> (270.20 MB)\n",
       "</pre>\n"
      ],
      "text/plain": [
       "\u001b[1m Trainable params: \u001b[0m\u001b[38;5;34m70,832,262\u001b[0m (270.20 MB)\n"
      ]
     },
     "metadata": {},
     "output_type": "display_data"
    },
    {
     "data": {
      "text/html": [
       "<pre style=\"white-space:pre;overflow-x:auto;line-height:normal;font-family:Menlo,'DejaVu Sans Mono',consolas,'Courier New',monospace\"><span style=\"font-weight: bold\"> Non-trainable params: </span><span style=\"color: #00af00; text-decoration-color: #00af00\">0</span> (0.00 B)\n",
       "</pre>\n"
      ],
      "text/plain": [
       "\u001b[1m Non-trainable params: \u001b[0m\u001b[38;5;34m0\u001b[0m (0.00 B)\n"
      ]
     },
     "metadata": {},
     "output_type": "display_data"
    }
   ],
   "source": [
    "classifier = keras_nlp.models.DebertaV3Classifier.from_preset(\n",
    "    CFG.preset, preprocessor=None, num_classes=6, activation=\"softmax\"\n",
    ")\n",
    "\n",
    "inp = classifier.input\n",
    "logit = classifier(inp)\n",
    "\n",
    "model = keras.Model(inp, logit)\n",
    "model.compile(optimizer=keras.optimizers.RMSprop(learning_rate=CFG.lr_begin), loss=anti_weighted_kappa, metrics=[weighted_kappa, keras.metrics.CategoricalAccuracy()])\n",
    "\n",
    "model.summary()"
   ]
  },
  {
   "cell_type": "code",
   "execution_count": 10,
   "id": "a6ddc5ee",
   "metadata": {
    "execution": {
     "iopub.execute_input": "2024-05-02T10:22:31.002855Z",
     "iopub.status.busy": "2024-05-02T10:22:31.002255Z",
     "iopub.status.idle": "2024-05-02T10:22:35.226232Z",
     "shell.execute_reply": "2024-05-02T10:22:35.225279Z"
    },
    "papermill": {
     "duration": 4.236246,
     "end_time": "2024-05-02T10:22:35.228663",
     "exception": false,
     "start_time": "2024-05-02T10:22:30.992417",
     "status": "completed"
    },
    "tags": []
   },
   "outputs": [
    {
     "data": {
      "text/plain": [
       "<tf.Tensor: shape=(1, 6), dtype=float32, numpy=\n",
       "array([[0.16138707, 0.19296643, 0.16298348, 0.15415876, 0.19217007,\n",
       "        0.13633417]], dtype=float32)>"
      ]
     },
     "execution_count": 10,
     "metadata": {},
     "output_type": "execute_result"
    }
   ],
   "source": [
    "tmp = preprocessor([\"hello my friend!\"])\n",
    "model(tmp)"
   ]
  },
  {
   "cell_type": "markdown",
   "id": "772f2270",
   "metadata": {
    "papermill": {
     "duration": 0.009039,
     "end_time": "2024-05-02T10:22:35.247153",
     "exception": false,
     "start_time": "2024-05-02T10:22:35.238114",
     "status": "completed"
    },
    "tags": []
   },
   "source": [
    "### Data Stream"
   ]
  },
  {
   "cell_type": "code",
   "execution_count": 11,
   "id": "09f8d5f4",
   "metadata": {
    "execution": {
     "iopub.execute_input": "2024-05-02T10:22:35.268264Z",
     "iopub.status.busy": "2024-05-02T10:22:35.267516Z",
     "iopub.status.idle": "2024-05-02T10:22:35.273792Z",
     "shell.execute_reply": "2024-05-02T10:22:35.272893Z"
    },
    "papermill": {
     "duration": 0.019553,
     "end_time": "2024-05-02T10:22:35.275770",
     "exception": false,
     "start_time": "2024-05-02T10:22:35.256217",
     "status": "completed"
    },
    "tags": []
   },
   "outputs": [],
   "source": [
    "def build_ds(texts, scores, drop_batch_remainder=False):\n",
    "    inp = preprocessor(texts)\n",
    "    ds = tf.data.Dataset.from_tensor_slices((inp, scores))\n",
    "    ds = ds.prefetch(tf.data.AUTOTUNE)\n",
    "    ds = ds.shuffle(256)\n",
    "    ds = ds.cache()\n",
    "    ds = ds.batch(CFG.batch_size, drop_remainder=drop_batch_remainder)\n",
    "    def one_hot_score(inp, score):\n",
    "        return (inp, tf.one_hot(score, 6))\n",
    "    ds = ds.map(one_hot_score)\n",
    "    return ds"
   ]
  },
  {
   "cell_type": "code",
   "execution_count": 12,
   "id": "3e87590d",
   "metadata": {
    "execution": {
     "iopub.execute_input": "2024-05-02T10:22:35.295592Z",
     "iopub.status.busy": "2024-05-02T10:22:35.295054Z",
     "iopub.status.idle": "2024-05-02T10:22:38.406179Z",
     "shell.execute_reply": "2024-05-02T10:22:38.405398Z"
    },
    "papermill": {
     "duration": 3.12362,
     "end_time": "2024-05-02T10:22:38.408611",
     "exception": false,
     "start_time": "2024-05-02T10:22:35.284991",
     "status": "completed"
    },
    "tags": []
   },
   "outputs": [],
   "source": [
    "train_ds = build_ds(train_df.full_text.tolist(), np.asarray(train_df.score.tolist())-1, True)\n",
    "\n",
    "val_ds = build_ds(valid_df.full_text.tolist(), np.asarray(valid_df.score.tolist())-1, False)"
   ]
  },
  {
   "cell_type": "markdown",
   "id": "a11ded6a",
   "metadata": {
    "papermill": {
     "duration": 0.008926,
     "end_time": "2024-05-02T10:22:38.427413",
     "exception": false,
     "start_time": "2024-05-02T10:22:38.418487",
     "status": "completed"
    },
    "tags": []
   },
   "source": [
    "### Training"
   ]
  },
  {
   "cell_type": "code",
   "execution_count": 13,
   "id": "4d6a10d7",
   "metadata": {
    "execution": {
     "iopub.execute_input": "2024-05-02T10:22:38.446668Z",
     "iopub.status.busy": "2024-05-02T10:22:38.446327Z",
     "iopub.status.idle": "2024-05-02T10:22:38.451526Z",
     "shell.execute_reply": "2024-05-02T10:22:38.450677Z"
    },
    "papermill": {
     "duration": 0.016981,
     "end_time": "2024-05-02T10:22:38.453305",
     "exception": false,
     "start_time": "2024-05-02T10:22:38.436324",
     "status": "completed"
    },
    "tags": []
   },
   "outputs": [],
   "source": [
    "def rate_scheduler(epoch, lr):\n",
    "    lr_max = CFG.lr_max\n",
    "    decay = CFG.lr_decay_rate\n",
    "    ramp_ep = CFG.lr_num_ramp\n",
    "    if epoch < ramp_ep:\n",
    "        return lr + (lr_max - lr) / (ramp_ep - epoch)\n",
    "    else:\n",
    "        return lr * decay"
   ]
  },
  {
   "cell_type": "code",
   "execution_count": 14,
   "id": "38ff62be",
   "metadata": {
    "execution": {
     "iopub.execute_input": "2024-05-02T10:22:38.473094Z",
     "iopub.status.busy": "2024-05-02T10:22:38.472827Z",
     "iopub.status.idle": "2024-05-02T10:22:38.477601Z",
     "shell.execute_reply": "2024-05-02T10:22:38.476735Z"
    },
    "papermill": {
     "duration": 0.016655,
     "end_time": "2024-05-02T10:22:38.479473",
     "exception": false,
     "start_time": "2024-05-02T10:22:38.462818",
     "status": "completed"
    },
    "tags": []
   },
   "outputs": [],
   "source": [
    "checkpoint = keras.callbacks.ModelCheckpoint(\"/kaggle/working/v1-{epoch}.weights.h5\", monitor=\"val_loss\", save_weights_only=True)\n",
    "best_checkpoint = keras.callbacks.ModelCheckpoint(\"/kaggle/working/v1.weights.h5\", monitor=\"val_loss\", save_weights_only=True, save_best_only=True)\n",
    "rate_control = keras.callbacks.LearningRateScheduler(rate_scheduler)"
   ]
  },
  {
   "cell_type": "code",
   "execution_count": 15,
   "id": "5c163eda",
   "metadata": {
    "execution": {
     "iopub.execute_input": "2024-05-02T10:22:38.498771Z",
     "iopub.status.busy": "2024-05-02T10:22:38.498531Z",
     "iopub.status.idle": "2024-05-02T11:50:43.372543Z",
     "shell.execute_reply": "2024-05-02T11:50:43.371588Z"
    },
    "papermill": {
     "duration": 5285.423235,
     "end_time": "2024-05-02T11:50:43.911651",
     "exception": false,
     "start_time": "2024-05-02T10:22:38.488416",
     "status": "completed"
    },
    "tags": []
   },
   "outputs": [
    {
     "name": "stdout",
     "output_type": "stream",
     "text": [
      "Epoch 1/15\n"
     ]
    },
    {
     "name": "stderr",
     "output_type": "stream",
     "text": [
      "WARNING: All log messages before absl::InitializeLog() is called are written to STDERR\n",
      "I0000 00:00:1714645484.103892      69 device_compiler.h:186] Compiled cluster using XLA!  This line is logged at most once for the lifetime of the process.\n",
      "W0000 00:00:1714645484.206700      69 graph_launch.cc:671] Fallback to op-by-op mode because memset node breaks graph update\n"
     ]
    },
    {
     "name": "stdout",
     "output_type": "stream",
     "text": [
      "\u001b[1m  1/432\u001b[0m \u001b[37m━━━━━━━━━━━━━━━━━━━━\u001b[0m \u001b[1m15:08:05\u001b[0m 126s/step - categorical_accuracy: 0.0625 - loss: 1.0044 - weighted_kappa: -0.0044"
     ]
    },
    {
     "name": "stderr",
     "output_type": "stream",
     "text": [
      "W0000 00:00:1714645484.918610      69 graph_launch.cc:671] Fallback to op-by-op mode because memset node breaks graph update\n"
     ]
    },
    {
     "name": "stdout",
     "output_type": "stream",
     "text": [
      "\u001b[1m432/432\u001b[0m \u001b[32m━━━━━━━━━━━━━━━━━━━━\u001b[0m\u001b[37m\u001b[0m \u001b[1m0s\u001b[0m 712ms/step - categorical_accuracy: 0.2023 - loss: 0.7252 - weighted_kappa: 0.2748"
     ]
    },
    {
     "name": "stderr",
     "output_type": "stream",
     "text": [
      "W0000 00:00:1714645826.746074      68 graph_launch.cc:671] Fallback to op-by-op mode because memset node breaks graph update\n"
     ]
    },
    {
     "name": "stdout",
     "output_type": "stream",
     "text": [
      "\u001b[1m432/432\u001b[0m \u001b[32m━━━━━━━━━━━━━━━━━━━━\u001b[0m\u001b[37m\u001b[0m \u001b[1m471s\u001b[0m 799ms/step - categorical_accuracy: 0.2026 - loss: 0.7247 - weighted_kappa: 0.2753 - val_categorical_accuracy: 0.5442 - val_loss: 0.2770 - val_weighted_kappa: 0.7233 - learning_rate: 3.2500e-05\n",
      "Epoch 2/15\n",
      "\u001b[1m432/432\u001b[0m \u001b[32m━━━━━━━━━━━━━━━━━━━━\u001b[0m\u001b[37m\u001b[0m \u001b[1m335s\u001b[0m 775ms/step - categorical_accuracy: 0.5081 - loss: 0.2992 - weighted_kappa: 0.7008 - val_categorical_accuracy: 0.5529 - val_loss: 0.2390 - val_weighted_kappa: 0.7611 - learning_rate: 5.5000e-05\n",
      "Epoch 3/15\n",
      "\u001b[1m432/432\u001b[0m \u001b[32m━━━━━━━━━━━━━━━━━━━━\u001b[0m\u001b[37m\u001b[0m \u001b[1m380s\u001b[0m 771ms/step - categorical_accuracy: 0.5207 - loss: 0.2690 - weighted_kappa: 0.7310 - val_categorical_accuracy: 0.4688 - val_loss: 0.3263 - val_weighted_kappa: 0.6749 - learning_rate: 7.7500e-05\n",
      "Epoch 4/15\n",
      "\u001b[1m432/432\u001b[0m \u001b[32m━━━━━━━━━━━━━━━━━━━━\u001b[0m\u001b[37m\u001b[0m \u001b[1m333s\u001b[0m 771ms/step - categorical_accuracy: 0.5317 - loss: 0.2631 - weighted_kappa: 0.7369 - val_categorical_accuracy: 0.4942 - val_loss: 0.3144 - val_weighted_kappa: 0.6859 - learning_rate: 1.0000e-04\n",
      "Epoch 5/15\n",
      "\u001b[1m432/432\u001b[0m \u001b[32m━━━━━━━━━━━━━━━━━━━━\u001b[0m\u001b[37m\u001b[0m \u001b[1m382s\u001b[0m 771ms/step - categorical_accuracy: 0.5928 - loss: 0.2209 - weighted_kappa: 0.7791 - val_categorical_accuracy: 0.5699 - val_loss: 0.2394 - val_weighted_kappa: 0.7608 - learning_rate: 6.0000e-05\n",
      "Epoch 6/15\n",
      "\u001b[1m432/432\u001b[0m \u001b[32m━━━━━━━━━━━━━━━━━━━━\u001b[0m\u001b[37m\u001b[0m \u001b[1m333s\u001b[0m 771ms/step - categorical_accuracy: 0.6040 - loss: 0.2057 - weighted_kappa: 0.7943 - val_categorical_accuracy: 0.5861 - val_loss: 0.2473 - val_weighted_kappa: 0.7535 - learning_rate: 3.6000e-05\n",
      "Epoch 7/15\n",
      "\u001b[1m432/432\u001b[0m \u001b[32m━━━━━━━━━━━━━━━━━━━━\u001b[0m\u001b[37m\u001b[0m \u001b[1m384s\u001b[0m 775ms/step - categorical_accuracy: 0.6521 - loss: 0.1858 - weighted_kappa: 0.8142 - val_categorical_accuracy: 0.6314 - val_loss: 0.2295 - val_weighted_kappa: 0.7714 - learning_rate: 2.1600e-05\n",
      "Epoch 8/15\n",
      "\u001b[1m432/432\u001b[0m \u001b[32m━━━━━━━━━━━━━━━━━━━━\u001b[0m\u001b[37m\u001b[0m \u001b[1m335s\u001b[0m 775ms/step - categorical_accuracy: 0.6722 - loss: 0.1744 - weighted_kappa: 0.8256 - val_categorical_accuracy: 0.6023 - val_loss: 0.2227 - val_weighted_kappa: 0.7775 - learning_rate: 1.2960e-05\n",
      "Epoch 9/15\n",
      "\u001b[1m432/432\u001b[0m \u001b[32m━━━━━━━━━━━━━━━━━━━━\u001b[0m\u001b[37m\u001b[0m \u001b[1m335s\u001b[0m 775ms/step - categorical_accuracy: 0.6790 - loss: 0.1676 - weighted_kappa: 0.8324 - val_categorical_accuracy: 0.6308 - val_loss: 0.2159 - val_weighted_kappa: 0.7846 - learning_rate: 7.7760e-06\n",
      "Epoch 10/15\n",
      "\u001b[1m432/432\u001b[0m \u001b[32m━━━━━━━━━━━━━━━━━━━━\u001b[0m\u001b[37m\u001b[0m \u001b[1m335s\u001b[0m 775ms/step - categorical_accuracy: 0.6930 - loss: 0.1596 - weighted_kappa: 0.8404 - val_categorical_accuracy: 0.6265 - val_loss: 0.2139 - val_weighted_kappa: 0.7862 - learning_rate: 4.6656e-06\n",
      "Epoch 11/15\n",
      "\u001b[1m432/432\u001b[0m \u001b[32m━━━━━━━━━━━━━━━━━━━━\u001b[0m\u001b[37m\u001b[0m \u001b[1m333s\u001b[0m 770ms/step - categorical_accuracy: 0.6954 - loss: 0.1592 - weighted_kappa: 0.8408 - val_categorical_accuracy: 0.6213 - val_loss: 0.2150 - val_weighted_kappa: 0.7852 - learning_rate: 2.7994e-06\n",
      "Epoch 12/15\n",
      "\u001b[1m432/432\u001b[0m \u001b[32m━━━━━━━━━━━━━━━━━━━━\u001b[0m\u001b[37m\u001b[0m \u001b[1m333s\u001b[0m 770ms/step - categorical_accuracy: 0.7008 - loss: 0.1548 - weighted_kappa: 0.8452 - val_categorical_accuracy: 0.6222 - val_loss: 0.2148 - val_weighted_kappa: 0.7854 - learning_rate: 1.6796e-06\n",
      "Epoch 13/15\n",
      "\u001b[1m432/432\u001b[0m \u001b[32m━━━━━━━━━━━━━━━━━━━━\u001b[0m\u001b[37m\u001b[0m \u001b[1m333s\u001b[0m 770ms/step - categorical_accuracy: 0.7033 - loss: 0.1536 - weighted_kappa: 0.8464 - val_categorical_accuracy: 0.6233 - val_loss: 0.2163 - val_weighted_kappa: 0.7842 - learning_rate: 1.0078e-06\n",
      "Epoch 14/15\n",
      "\u001b[1m432/432\u001b[0m \u001b[32m━━━━━━━━━━━━━━━━━━━━\u001b[0m\u001b[37m\u001b[0m \u001b[1m333s\u001b[0m 770ms/step - categorical_accuracy: 0.6984 - loss: 0.1562 - weighted_kappa: 0.8438 - val_categorical_accuracy: 0.6259 - val_loss: 0.2161 - val_weighted_kappa: 0.7842 - learning_rate: 6.0466e-07\n",
      "Epoch 15/15\n",
      "\u001b[1m432/432\u001b[0m \u001b[32m━━━━━━━━━━━━━━━━━━━━\u001b[0m\u001b[37m\u001b[0m \u001b[1m333s\u001b[0m 770ms/step - categorical_accuracy: 0.7025 - loss: 0.1537 - weighted_kappa: 0.8463 - val_categorical_accuracy: 0.6239 - val_loss: 0.2159 - val_weighted_kappa: 0.7845 - learning_rate: 3.6280e-07\n"
     ]
    }
   ],
   "source": [
    "history = model.fit(train_ds, validation_data=val_ds, epochs=CFG.epochs, callbacks=[checkpoint, rate_control, best_checkpoint])"
   ]
  },
  {
   "cell_type": "markdown",
   "id": "7613d628",
   "metadata": {
    "papermill": {
     "duration": 0.591458,
     "end_time": "2024-05-02T11:50:45.044194",
     "exception": false,
     "start_time": "2024-05-02T11:50:44.452736",
     "status": "completed"
    },
    "tags": []
   },
   "source": [
    "### Evaluate"
   ]
  },
  {
   "cell_type": "code",
   "execution_count": 16,
   "id": "bafb9c1f",
   "metadata": {
    "execution": {
     "iopub.execute_input": "2024-05-02T11:50:46.105268Z",
     "iopub.status.busy": "2024-05-02T11:50:46.104312Z",
     "iopub.status.idle": "2024-05-02T11:50:46.110037Z",
     "shell.execute_reply": "2024-05-02T11:50:46.109199Z"
    },
    "papermill": {
     "duration": 0.538663,
     "end_time": "2024-05-02T11:50:46.111963",
     "exception": false,
     "start_time": "2024-05-02T11:50:45.573300",
     "status": "completed"
    },
    "tags": []
   },
   "outputs": [],
   "source": [
    "def load_model(path):\n",
    "    classifier = keras_nlp.models.DebertaV3Classifier.from_preset(\n",
    "        CFG.preset, preprocessor=None, num_classes=6, activation=\"softmax\"\n",
    "    )\n",
    "\n",
    "    inp = classifier.input\n",
    "    logit = classifier(inp)\n",
    "\n",
    "    model = keras.Model(inp, logit)\n",
    "\n",
    "    model.load_weights(path)\n",
    "    \n",
    "    return model"
   ]
  },
  {
   "cell_type": "code",
   "execution_count": 17,
   "id": "0dfb0478",
   "metadata": {
    "execution": {
     "iopub.execute_input": "2024-05-02T11:50:47.176733Z",
     "iopub.status.busy": "2024-05-02T11:50:47.175944Z",
     "iopub.status.idle": "2024-05-02T11:50:54.139462Z",
     "shell.execute_reply": "2024-05-02T11:50:54.138303Z"
    },
    "papermill": {
     "duration": 7.502585,
     "end_time": "2024-05-02T11:50:54.143079",
     "exception": false,
     "start_time": "2024-05-02T11:50:46.640494",
     "status": "completed"
    },
    "tags": []
   },
   "outputs": [
    {
     "name": "stderr",
     "output_type": "stream",
     "text": [
      "Attaching 'config.json' from model 'keras/deberta_v3/keras/deberta_v3_extra_small_en/2' to your Kaggle notebook...\n",
      "Attaching 'config.json' from model 'keras/deberta_v3/keras/deberta_v3_extra_small_en/2' to your Kaggle notebook...\n",
      "Attaching 'model.weights.h5' from model 'keras/deberta_v3/keras/deberta_v3_extra_small_en/2' to your Kaggle notebook...\n"
     ]
    }
   ],
   "source": [
    "test_model = load_model(\"v1.weights.h5\")"
   ]
  },
  {
   "cell_type": "code",
   "execution_count": 18,
   "id": "e520afaf",
   "metadata": {
    "execution": {
     "iopub.execute_input": "2024-05-02T11:50:55.280054Z",
     "iopub.status.busy": "2024-05-02T11:50:55.279716Z",
     "iopub.status.idle": "2024-05-02T11:50:55.658618Z",
     "shell.execute_reply": "2024-05-02T11:50:55.657753Z"
    },
    "papermill": {
     "duration": 0.966582,
     "end_time": "2024-05-02T11:50:55.660805",
     "exception": false,
     "start_time": "2024-05-02T11:50:54.694223",
     "status": "completed"
    },
    "tags": []
   },
   "outputs": [],
   "source": [
    "test_df = pd.read_csv(f'{BASE_PATH}/test.csv')\n",
    "test_inp = preprocessor(test_df.full_text.tolist())\n",
    "prob = test_model(test_inp)\n",
    "predict = np.argmax(prob, axis=-1) + 1"
   ]
  },
  {
   "cell_type": "code",
   "execution_count": 19,
   "id": "ccf34925",
   "metadata": {
    "execution": {
     "iopub.execute_input": "2024-05-02T11:50:56.735124Z",
     "iopub.status.busy": "2024-05-02T11:50:56.734756Z",
     "iopub.status.idle": "2024-05-02T11:50:56.739805Z",
     "shell.execute_reply": "2024-05-02T11:50:56.738937Z"
    },
    "papermill": {
     "duration": 0.545842,
     "end_time": "2024-05-02T11:50:56.741710",
     "exception": false,
     "start_time": "2024-05-02T11:50:56.195868",
     "status": "completed"
    },
    "tags": []
   },
   "outputs": [],
   "source": [
    "out_df = pd.DataFrame({\n",
    "    'essay_id': test_df.essay_id,\n",
    "    'score': predict\n",
    "})"
   ]
  },
  {
   "cell_type": "code",
   "execution_count": 20,
   "id": "29a794c2",
   "metadata": {
    "execution": {
     "iopub.execute_input": "2024-05-02T11:50:57.851024Z",
     "iopub.status.busy": "2024-05-02T11:50:57.850652Z",
     "iopub.status.idle": "2024-05-02T11:50:57.859260Z",
     "shell.execute_reply": "2024-05-02T11:50:57.858394Z"
    },
    "papermill": {
     "duration": 0.592879,
     "end_time": "2024-05-02T11:50:57.861242",
     "exception": false,
     "start_time": "2024-05-02T11:50:57.268363",
     "status": "completed"
    },
    "tags": []
   },
   "outputs": [],
   "source": [
    "out_df.to_csv(\"submission.csv\")"
   ]
  },
  {
   "cell_type": "code",
   "execution_count": 21,
   "id": "ad353c1a",
   "metadata": {
    "execution": {
     "iopub.execute_input": "2024-05-02T11:50:58.937277Z",
     "iopub.status.busy": "2024-05-02T11:50:58.936392Z",
     "iopub.status.idle": "2024-05-02T11:50:58.949058Z",
     "shell.execute_reply": "2024-05-02T11:50:58.948168Z"
    },
    "papermill": {
     "duration": 0.55995,
     "end_time": "2024-05-02T11:50:58.951001",
     "exception": false,
     "start_time": "2024-05-02T11:50:58.391051",
     "status": "completed"
    },
    "tags": []
   },
   "outputs": [
    {
     "data": {
      "text/html": [
       "<div>\n",
       "<style scoped>\n",
       "    .dataframe tbody tr th:only-of-type {\n",
       "        vertical-align: middle;\n",
       "    }\n",
       "\n",
       "    .dataframe tbody tr th {\n",
       "        vertical-align: top;\n",
       "    }\n",
       "\n",
       "    .dataframe thead th {\n",
       "        text-align: right;\n",
       "    }\n",
       "</style>\n",
       "<table border=\"1\" class=\"dataframe\">\n",
       "  <thead>\n",
       "    <tr style=\"text-align: right;\">\n",
       "      <th></th>\n",
       "      <th>essay_id</th>\n",
       "      <th>score</th>\n",
       "    </tr>\n",
       "  </thead>\n",
       "  <tbody>\n",
       "    <tr>\n",
       "      <th>0</th>\n",
       "      <td>000d118</td>\n",
       "      <td>2</td>\n",
       "    </tr>\n",
       "    <tr>\n",
       "      <th>1</th>\n",
       "      <td>000fe60</td>\n",
       "      <td>3</td>\n",
       "    </tr>\n",
       "    <tr>\n",
       "      <th>2</th>\n",
       "      <td>001ab80</td>\n",
       "      <td>5</td>\n",
       "    </tr>\n",
       "  </tbody>\n",
       "</table>\n",
       "</div>"
      ],
      "text/plain": [
       "  essay_id  score\n",
       "0  000d118      2\n",
       "1  000fe60      3\n",
       "2  001ab80      5"
      ]
     },
     "execution_count": 21,
     "metadata": {},
     "output_type": "execute_result"
    }
   ],
   "source": [
    "out_df"
   ]
  },
  {
   "cell_type": "code",
   "execution_count": null,
   "id": "e6639bbb",
   "metadata": {
    "papermill": {
     "duration": 0.54794,
     "end_time": "2024-05-02T11:51:00.074652",
     "exception": false,
     "start_time": "2024-05-02T11:50:59.526712",
     "status": "completed"
    },
    "tags": []
   },
   "outputs": [],
   "source": []
  }
 ],
 "metadata": {
  "kaggle": {
   "accelerator": "gpu",
   "dataSources": [
    {
     "databundleVersionId": 8059942,
     "sourceId": 71485,
     "sourceType": "competition"
    },
    {
     "modelInstanceId": 4684,
     "sourceId": 6063,
     "sourceType": "modelInstanceVersion"
    }
   ],
   "dockerImageVersionId": 30698,
   "isGpuEnabled": true,
   "isInternetEnabled": false,
   "language": "python",
   "sourceType": "notebook"
  },
  "kernelspec": {
   "display_name": "Python 3",
   "language": "python",
   "name": "python3"
  },
  "language_info": {
   "codemirror_mode": {
    "name": "ipython",
    "version": 3
   },
   "file_extension": ".py",
   "mimetype": "text/x-python",
   "name": "python",
   "nbconvert_exporter": "python",
   "pygments_lexer": "ipython3",
   "version": "3.10.13"
  },
  "papermill": {
   "default_parameters": {},
   "duration": 5339.073575,
   "end_time": "2024-05-02T11:51:03.780187",
   "environment_variables": {},
   "exception": null,
   "input_path": "__notebook__.ipynb",
   "output_path": "__notebook__.ipynb",
   "parameters": {},
   "start_time": "2024-05-02T10:22:04.706612",
   "version": "2.5.0"
  }
 },
 "nbformat": 4,
 "nbformat_minor": 5
}
