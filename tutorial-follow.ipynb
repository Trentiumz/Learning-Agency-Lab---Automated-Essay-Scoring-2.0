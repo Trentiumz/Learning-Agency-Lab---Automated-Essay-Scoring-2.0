{
 "cells": [
  {
   "cell_type": "code",
   "execution_count": 1,
   "id": "7b1012d6",
   "metadata": {
    "_cell_guid": "b1076dfc-b9ad-4769-8c92-a6c4dae69d19",
    "_uuid": "8f2839f25d086af736a60e9eeb907d3b93b6e0e5",
    "execution": {
     "iopub.execute_input": "2024-04-27T15:54:28.063398Z",
     "iopub.status.busy": "2024-04-27T15:54:28.063040Z",
     "iopub.status.idle": "2024-04-27T15:54:43.513689Z",
     "shell.execute_reply": "2024-04-27T15:54:43.512847Z"
    },
    "papermill": {
     "duration": 15.461703,
     "end_time": "2024-04-27T15:54:43.516123",
     "exception": false,
     "start_time": "2024-04-27T15:54:28.054420",
     "status": "completed"
    },
    "tags": []
   },
   "outputs": [
    {
     "name": "stderr",
     "output_type": "stream",
     "text": [
      "2024-04-27 15:54:30.139384: E external/local_xla/xla/stream_executor/cuda/cuda_dnn.cc:9261] Unable to register cuDNN factory: Attempting to register factory for plugin cuDNN when one has already been registered\n",
      "2024-04-27 15:54:30.139482: E external/local_xla/xla/stream_executor/cuda/cuda_fft.cc:607] Unable to register cuFFT factory: Attempting to register factory for plugin cuFFT when one has already been registered\n",
      "2024-04-27 15:54:30.302324: E external/local_xla/xla/stream_executor/cuda/cuda_blas.cc:1515] Unable to register cuBLAS factory: Attempting to register factory for plugin cuBLAS when one has already been registered\n"
     ]
    }
   ],
   "source": [
    "import os\n",
    "os.environ['KERAS_BACKEND'] = 'tensorflow'\n",
    "\n",
    "import keras_nlp\n",
    "import keras\n",
    "import keras.backend as K\n",
    "import tensorflow as tf\n",
    "\n",
    "import numpy as np\n",
    "import pandas as pd\n",
    "\n",
    "import matplotlib.pyplot as plt\n",
    "import matplotlib as mpl\n",
    "\n",
    "cmap = mpl.colormaps['coolwarm']"
   ]
  },
  {
   "cell_type": "markdown",
   "id": "f2f7f7cc",
   "metadata": {
    "papermill": {
     "duration": 0.007039,
     "end_time": "2024-04-27T15:54:43.531289",
     "exception": false,
     "start_time": "2024-04-27T15:54:43.524250",
     "status": "completed"
    },
    "tags": []
   },
   "source": [
    "### Configuration"
   ]
  },
  {
   "cell_type": "code",
   "execution_count": 2,
   "id": "c3e10647",
   "metadata": {
    "execution": {
     "iopub.execute_input": "2024-04-27T15:54:43.547331Z",
     "iopub.status.busy": "2024-04-27T15:54:43.546783Z",
     "iopub.status.idle": "2024-04-27T15:54:43.551722Z",
     "shell.execute_reply": "2024-04-27T15:54:43.550775Z"
    },
    "papermill": {
     "duration": 0.015114,
     "end_time": "2024-04-27T15:54:43.553738",
     "exception": false,
     "start_time": "2024-04-27T15:54:43.538624",
     "status": "completed"
    },
    "tags": []
   },
   "outputs": [],
   "source": [
    "class CFG:\n",
    "    seed = 42\n",
    "    preset = 'deberta_v3_extra_small_en'\n",
    "    sequence_length = 512\n",
    "    epochs = 2\n",
    "    batch_size = 32\n",
    "    scheduler = 'exp'\n",
    "    cache = False"
   ]
  },
  {
   "cell_type": "code",
   "execution_count": 3,
   "id": "9ee8fb88",
   "metadata": {
    "execution": {
     "iopub.execute_input": "2024-04-27T15:54:43.568968Z",
     "iopub.status.busy": "2024-04-27T15:54:43.568685Z",
     "iopub.status.idle": "2024-04-27T15:54:43.573107Z",
     "shell.execute_reply": "2024-04-27T15:54:43.572255Z"
    },
    "papermill": {
     "duration": 0.014232,
     "end_time": "2024-04-27T15:54:43.575020",
     "exception": false,
     "start_time": "2024-04-27T15:54:43.560788",
     "status": "completed"
    },
    "tags": []
   },
   "outputs": [],
   "source": [
    "keras.utils.set_random_seed(CFG.seed)\n",
    "keras.mixed_precision.set_global_policy('mixed_float16')"
   ]
  },
  {
   "cell_type": "markdown",
   "id": "1ca85387",
   "metadata": {
    "papermill": {
     "duration": 0.007127,
     "end_time": "2024-04-27T15:54:43.589144",
     "exception": false,
     "start_time": "2024-04-27T15:54:43.582017",
     "status": "completed"
    },
    "tags": []
   },
   "source": [
    "### Load Data"
   ]
  },
  {
   "cell_type": "code",
   "execution_count": 4,
   "id": "1ee850a9",
   "metadata": {
    "execution": {
     "iopub.execute_input": "2024-04-27T15:54:43.604636Z",
     "iopub.status.busy": "2024-04-27T15:54:43.604344Z",
     "iopub.status.idle": "2024-04-27T15:54:44.507161Z",
     "shell.execute_reply": "2024-04-27T15:54:44.506266Z"
    },
    "papermill": {
     "duration": 0.9131,
     "end_time": "2024-04-27T15:54:44.509438",
     "exception": false,
     "start_time": "2024-04-27T15:54:43.596338",
     "status": "completed"
    },
    "tags": []
   },
   "outputs": [],
   "source": [
    "BASE_PATH = '/kaggle/input/learning-agency-lab-automated-essay-scoring-2'\n",
    "\n",
    "df = pd.read_csv(f'{BASE_PATH}/train.csv')"
   ]
  },
  {
   "cell_type": "code",
   "execution_count": 5,
   "id": "d4f83d38",
   "metadata": {
    "execution": {
     "iopub.execute_input": "2024-04-27T15:54:44.525016Z",
     "iopub.status.busy": "2024-04-27T15:54:44.524697Z",
     "iopub.status.idle": "2024-04-27T15:54:45.403271Z",
     "shell.execute_reply": "2024-04-27T15:54:45.402204Z"
    },
    "papermill": {
     "duration": 0.888928,
     "end_time": "2024-04-27T15:54:45.405637",
     "exception": false,
     "start_time": "2024-04-27T15:54:44.516709",
     "status": "completed"
    },
    "tags": []
   },
   "outputs": [],
   "source": [
    "from sklearn.model_selection import train_test_split\n",
    "train_df, valid_df = train_test_split(df, test_size=0.2, stratify=df['score'])"
   ]
  },
  {
   "cell_type": "code",
   "execution_count": 6,
   "id": "736bfe6c",
   "metadata": {
    "execution": {
     "iopub.execute_input": "2024-04-27T15:54:45.421585Z",
     "iopub.status.busy": "2024-04-27T15:54:45.420876Z",
     "iopub.status.idle": "2024-04-27T15:54:45.435197Z",
     "shell.execute_reply": "2024-04-27T15:54:45.434217Z"
    },
    "papermill": {
     "duration": 0.024135,
     "end_time": "2024-04-27T15:54:45.437141",
     "exception": false,
     "start_time": "2024-04-27T15:54:45.413006",
     "status": "completed"
    },
    "tags": []
   },
   "outputs": [
    {
     "data": {
      "text/plain": [
       "score\n",
       "3    5024\n",
       "2    3778\n",
       "4    3141\n",
       "1    1001\n",
       "5     776\n",
       "6     125\n",
       "Name: count, dtype: int64"
      ]
     },
     "execution_count": 6,
     "metadata": {},
     "output_type": "execute_result"
    }
   ],
   "source": [
    "train_df.score.value_counts()"
   ]
  },
  {
   "cell_type": "markdown",
   "id": "50ad2537",
   "metadata": {
    "papermill": {
     "duration": 0.007727,
     "end_time": "2024-04-27T15:54:45.452001",
     "exception": false,
     "start_time": "2024-04-27T15:54:45.444274",
     "status": "completed"
    },
    "tags": []
   },
   "source": [
    "### Preprocessing"
   ]
  },
  {
   "cell_type": "code",
   "execution_count": 7,
   "id": "b11f0273",
   "metadata": {
    "execution": {
     "iopub.execute_input": "2024-04-27T15:54:45.467402Z",
     "iopub.status.busy": "2024-04-27T15:54:45.466922Z",
     "iopub.status.idle": "2024-04-27T15:54:47.921875Z",
     "shell.execute_reply": "2024-04-27T15:54:47.920978Z"
    },
    "papermill": {
     "duration": 2.464889,
     "end_time": "2024-04-27T15:54:47.924007",
     "exception": false,
     "start_time": "2024-04-27T15:54:45.459118",
     "status": "completed"
    },
    "tags": []
   },
   "outputs": [
    {
     "name": "stderr",
     "output_type": "stream",
     "text": [
      "Attaching 'tokenizer.json' from model 'keras/deberta_v3/keras/deberta_v3_extra_small_en/2' to your Kaggle notebook...\n",
      "Attaching 'tokenizer.json' from model 'keras/deberta_v3/keras/deberta_v3_extra_small_en/2' to your Kaggle notebook...\n",
      "Attaching 'assets/tokenizer/vocabulary.spm' from model 'keras/deberta_v3/keras/deberta_v3_extra_small_en/2' to your Kaggle notebook...\n"
     ]
    },
    {
     "name": "stdout",
     "output_type": "stream",
     "text": [
      "token_ids: (512,)\n",
      "padding_mask: (512,)\n"
     ]
    }
   ],
   "source": [
    "preprocessor = keras_nlp.models.DebertaV3Preprocessor.from_preset(\n",
    "    preset=CFG.preset,\n",
    "    sequence_length=CFG.sequence_length\n",
    ")\n",
    "\n",
    "for key, value in preprocessor(\"The quick fox jumped.\").items():\n",
    "    print(f'{key}: {value.shape}')"
   ]
  },
  {
   "cell_type": "markdown",
   "id": "9da14585",
   "metadata": {
    "papermill": {
     "duration": 0.007134,
     "end_time": "2024-04-27T15:54:47.938829",
     "exception": false,
     "start_time": "2024-04-27T15:54:47.931695",
     "status": "completed"
    },
    "tags": []
   },
   "source": [
    "### Model Definition"
   ]
  },
  {
   "cell_type": "code",
   "execution_count": 8,
   "id": "e13a2e24",
   "metadata": {
    "execution": {
     "iopub.execute_input": "2024-04-27T15:54:47.954983Z",
     "iopub.status.busy": "2024-04-27T15:54:47.954349Z",
     "iopub.status.idle": "2024-04-27T15:54:53.505081Z",
     "shell.execute_reply": "2024-04-27T15:54:53.504140Z"
    },
    "papermill": {
     "duration": 5.561068,
     "end_time": "2024-04-27T15:54:53.507174",
     "exception": false,
     "start_time": "2024-04-27T15:54:47.946106",
     "status": "completed"
    },
    "tags": []
   },
   "outputs": [
    {
     "name": "stderr",
     "output_type": "stream",
     "text": [
      "Attaching 'config.json' from model 'keras/deberta_v3/keras/deberta_v3_extra_small_en/2' to your Kaggle notebook...\n",
      "Attaching 'config.json' from model 'keras/deberta_v3/keras/deberta_v3_extra_small_en/2' to your Kaggle notebook...\n",
      "Attaching 'model.weights.h5' from model 'keras/deberta_v3/keras/deberta_v3_extra_small_en/2' to your Kaggle notebook...\n"
     ]
    },
    {
     "data": {
      "text/html": [
       "<pre style=\"white-space:pre;overflow-x:auto;line-height:normal;font-family:Menlo,'DejaVu Sans Mono',consolas,'Courier New',monospace\"><span style=\"font-weight: bold\">Model: \"functional_1\"</span>\n",
       "</pre>\n"
      ],
      "text/plain": [
       "\u001b[1mModel: \"functional_1\"\u001b[0m\n"
      ]
     },
     "metadata": {},
     "output_type": "display_data"
    },
    {
     "data": {
      "text/html": [
       "<pre style=\"white-space:pre;overflow-x:auto;line-height:normal;font-family:Menlo,'DejaVu Sans Mono',consolas,'Courier New',monospace\">┏━━━━━━━━━━━━━━━━━━━━━┳━━━━━━━━━━━━━━━━━━━┳━━━━━━━━━━━━┳━━━━━━━━━━━━━━━━━━━┓\n",
       "┃<span style=\"font-weight: bold\"> Layer (type)        </span>┃<span style=\"font-weight: bold\"> Output Shape      </span>┃<span style=\"font-weight: bold\">    Param # </span>┃<span style=\"font-weight: bold\"> Connected to      </span>┃\n",
       "┡━━━━━━━━━━━━━━━━━━━━━╇━━━━━━━━━━━━━━━━━━━╇━━━━━━━━━━━━╇━━━━━━━━━━━━━━━━━━━┩\n",
       "│ padding_mask        │ (<span style=\"color: #00d7ff; text-decoration-color: #00d7ff\">None</span>, <span style=\"color: #00d7ff; text-decoration-color: #00d7ff\">None</span>)      │          <span style=\"color: #00af00; text-decoration-color: #00af00\">0</span> │ -                 │\n",
       "│ (<span style=\"color: #0087ff; text-decoration-color: #0087ff\">InputLayer</span>)        │                   │            │                   │\n",
       "├─────────────────────┼───────────────────┼────────────┼───────────────────┤\n",
       "│ token_ids           │ (<span style=\"color: #00d7ff; text-decoration-color: #00d7ff\">None</span>, <span style=\"color: #00d7ff; text-decoration-color: #00d7ff\">None</span>)      │          <span style=\"color: #00af00; text-decoration-color: #00af00\">0</span> │ -                 │\n",
       "│ (<span style=\"color: #0087ff; text-decoration-color: #0087ff\">InputLayer</span>)        │                   │            │                   │\n",
       "├─────────────────────┼───────────────────┼────────────┼───────────────────┤\n",
       "│ deberta_v3_classif… │ (<span style=\"color: #00d7ff; text-decoration-color: #00d7ff\">None</span>, <span style=\"color: #00af00; text-decoration-color: #00af00\">6</span>)         │ <span style=\"color: #00af00; text-decoration-color: #00af00\">70,832,262</span> │ padding_mask[<span style=\"color: #00af00; text-decoration-color: #00af00\">0</span>][<span style=\"color: #00af00; text-decoration-color: #00af00\">…</span> │\n",
       "│ (<span style=\"color: #0087ff; text-decoration-color: #0087ff\">DebertaV3Classifi…</span> │                   │            │ token_ids[<span style=\"color: #00af00; text-decoration-color: #00af00\">0</span>][<span style=\"color: #00af00; text-decoration-color: #00af00\">0</span>]   │\n",
       "└─────────────────────┴───────────────────┴────────────┴───────────────────┘\n",
       "</pre>\n"
      ],
      "text/plain": [
       "┏━━━━━━━━━━━━━━━━━━━━━┳━━━━━━━━━━━━━━━━━━━┳━━━━━━━━━━━━┳━━━━━━━━━━━━━━━━━━━┓\n",
       "┃\u001b[1m \u001b[0m\u001b[1mLayer (type)       \u001b[0m\u001b[1m \u001b[0m┃\u001b[1m \u001b[0m\u001b[1mOutput Shape     \u001b[0m\u001b[1m \u001b[0m┃\u001b[1m \u001b[0m\u001b[1m   Param #\u001b[0m\u001b[1m \u001b[0m┃\u001b[1m \u001b[0m\u001b[1mConnected to     \u001b[0m\u001b[1m \u001b[0m┃\n",
       "┡━━━━━━━━━━━━━━━━━━━━━╇━━━━━━━━━━━━━━━━━━━╇━━━━━━━━━━━━╇━━━━━━━━━━━━━━━━━━━┩\n",
       "│ padding_mask        │ (\u001b[38;5;45mNone\u001b[0m, \u001b[38;5;45mNone\u001b[0m)      │          \u001b[38;5;34m0\u001b[0m │ -                 │\n",
       "│ (\u001b[38;5;33mInputLayer\u001b[0m)        │                   │            │                   │\n",
       "├─────────────────────┼───────────────────┼────────────┼───────────────────┤\n",
       "│ token_ids           │ (\u001b[38;5;45mNone\u001b[0m, \u001b[38;5;45mNone\u001b[0m)      │          \u001b[38;5;34m0\u001b[0m │ -                 │\n",
       "│ (\u001b[38;5;33mInputLayer\u001b[0m)        │                   │            │                   │\n",
       "├─────────────────────┼───────────────────┼────────────┼───────────────────┤\n",
       "│ deberta_v3_classif… │ (\u001b[38;5;45mNone\u001b[0m, \u001b[38;5;34m6\u001b[0m)         │ \u001b[38;5;34m70,832,262\u001b[0m │ padding_mask[\u001b[38;5;34m0\u001b[0m][\u001b[38;5;34m…\u001b[0m │\n",
       "│ (\u001b[38;5;33mDebertaV3Classifi…\u001b[0m │                   │            │ token_ids[\u001b[38;5;34m0\u001b[0m][\u001b[38;5;34m0\u001b[0m]   │\n",
       "└─────────────────────┴───────────────────┴────────────┴───────────────────┘\n"
      ]
     },
     "metadata": {},
     "output_type": "display_data"
    },
    {
     "data": {
      "text/html": [
       "<pre style=\"white-space:pre;overflow-x:auto;line-height:normal;font-family:Menlo,'DejaVu Sans Mono',consolas,'Courier New',monospace\"><span style=\"font-weight: bold\"> Total params: </span><span style=\"color: #00af00; text-decoration-color: #00af00\">70,832,262</span> (270.20 MB)\n",
       "</pre>\n"
      ],
      "text/plain": [
       "\u001b[1m Total params: \u001b[0m\u001b[38;5;34m70,832,262\u001b[0m (270.20 MB)\n"
      ]
     },
     "metadata": {},
     "output_type": "display_data"
    },
    {
     "data": {
      "text/html": [
       "<pre style=\"white-space:pre;overflow-x:auto;line-height:normal;font-family:Menlo,'DejaVu Sans Mono',consolas,'Courier New',monospace\"><span style=\"font-weight: bold\"> Trainable params: </span><span style=\"color: #00af00; text-decoration-color: #00af00\">70,832,262</span> (270.20 MB)\n",
       "</pre>\n"
      ],
      "text/plain": [
       "\u001b[1m Trainable params: \u001b[0m\u001b[38;5;34m70,832,262\u001b[0m (270.20 MB)\n"
      ]
     },
     "metadata": {},
     "output_type": "display_data"
    },
    {
     "data": {
      "text/html": [
       "<pre style=\"white-space:pre;overflow-x:auto;line-height:normal;font-family:Menlo,'DejaVu Sans Mono',consolas,'Courier New',monospace\"><span style=\"font-weight: bold\"> Non-trainable params: </span><span style=\"color: #00af00; text-decoration-color: #00af00\">0</span> (0.00 B)\n",
       "</pre>\n"
      ],
      "text/plain": [
       "\u001b[1m Non-trainable params: \u001b[0m\u001b[38;5;34m0\u001b[0m (0.00 B)\n"
      ]
     },
     "metadata": {},
     "output_type": "display_data"
    }
   ],
   "source": [
    "classifier = keras_nlp.models.DebertaV3Classifier.from_preset(\n",
    "    CFG.preset, preprocessor=None, num_classes=6, activation=\"softmax\"\n",
    ")\n",
    "\n",
    "inp = classifier.input\n",
    "logit = classifier(inp)\n",
    "\n",
    "model = keras.Model(inp, logit)\n",
    "model.compile(optimizer=keras.optimizers.RMSprop(learning_rate=1e-5), loss=tf.keras.losses.SparseCategoricalCrossentropy())\n",
    "\n",
    "model.summary()"
   ]
  },
  {
   "cell_type": "code",
   "execution_count": 9,
   "id": "d3190797",
   "metadata": {
    "execution": {
     "iopub.execute_input": "2024-04-27T15:54:53.525513Z",
     "iopub.status.busy": "2024-04-27T15:54:53.525246Z",
     "iopub.status.idle": "2024-04-27T15:54:58.018606Z",
     "shell.execute_reply": "2024-04-27T15:54:58.017656Z"
    },
    "papermill": {
     "duration": 4.5048,
     "end_time": "2024-04-27T15:54:58.020840",
     "exception": false,
     "start_time": "2024-04-27T15:54:53.516040",
     "status": "completed"
    },
    "tags": []
   },
   "outputs": [
    {
     "data": {
      "text/plain": [
       "<tf.Tensor: shape=(1, 6), dtype=float16, numpy=array([[0.1614, 0.193 , 0.163 , 0.1542, 0.1921, 0.1364]], dtype=float16)>"
      ]
     },
     "execution_count": 9,
     "metadata": {},
     "output_type": "execute_result"
    }
   ],
   "source": [
    "tmp = preprocessor([\"hello my friend!\"])\n",
    "model(tmp)"
   ]
  },
  {
   "cell_type": "markdown",
   "id": "c0698cc5",
   "metadata": {
    "papermill": {
     "duration": 0.008497,
     "end_time": "2024-04-27T15:54:58.038248",
     "exception": false,
     "start_time": "2024-04-27T15:54:58.029751",
     "status": "completed"
    },
    "tags": []
   },
   "source": [
    "### Data Stream"
   ]
  },
  {
   "cell_type": "code",
   "execution_count": 10,
   "id": "a64e55bc",
   "metadata": {
    "execution": {
     "iopub.execute_input": "2024-04-27T15:54:58.056490Z",
     "iopub.status.busy": "2024-04-27T15:54:58.056186Z",
     "iopub.status.idle": "2024-04-27T15:54:58.061176Z",
     "shell.execute_reply": "2024-04-27T15:54:58.060339Z"
    },
    "papermill": {
     "duration": 0.016403,
     "end_time": "2024-04-27T15:54:58.063178",
     "exception": false,
     "start_time": "2024-04-27T15:54:58.046775",
     "status": "completed"
    },
    "tags": []
   },
   "outputs": [],
   "source": [
    "def build_ds(texts, scores):\n",
    "    inp = preprocessor(texts)\n",
    "    ds = tf.data.Dataset.from_tensor_slices((inp, scores))\n",
    "    ds = ds.prefetch(tf.data.AUTOTUNE)\n",
    "    ds = ds.shuffle(256)\n",
    "    ds = ds.cache()\n",
    "    return ds"
   ]
  },
  {
   "cell_type": "code",
   "execution_count": 11,
   "id": "397a9c30",
   "metadata": {
    "execution": {
     "iopub.execute_input": "2024-04-27T15:54:58.081364Z",
     "iopub.status.busy": "2024-04-27T15:54:58.081101Z",
     "iopub.status.idle": "2024-04-27T15:55:02.949257Z",
     "shell.execute_reply": "2024-04-27T15:55:02.948471Z"
    },
    "papermill": {
     "duration": 4.879842,
     "end_time": "2024-04-27T15:55:02.951535",
     "exception": false,
     "start_time": "2024-04-27T15:54:58.071693",
     "status": "completed"
    },
    "tags": []
   },
   "outputs": [],
   "source": [
    "train_ds = build_ds(train_df.full_text.tolist(), np.asarray(train_df.score.tolist())-1)\n",
    "train_ds = train_ds.batch(CFG.batch_size, drop_remainder=True)\n",
    "\n",
    "val_ds = build_ds(train_df.full_text.tolist(), np.asarray(train_df.score.tolist())-1)\n",
    "val_ds = val_ds.batch(CFG.batch_size, drop_remainder=False)"
   ]
  },
  {
   "cell_type": "markdown",
   "id": "66da93ca",
   "metadata": {
    "papermill": {
     "duration": 0.008314,
     "end_time": "2024-04-27T15:55:02.968742",
     "exception": false,
     "start_time": "2024-04-27T15:55:02.960428",
     "status": "completed"
    },
    "tags": []
   },
   "source": [
    "### Training"
   ]
  },
  {
   "cell_type": "code",
   "execution_count": 12,
   "id": "2c823a42",
   "metadata": {
    "execution": {
     "iopub.execute_input": "2024-04-27T15:55:02.986768Z",
     "iopub.status.busy": "2024-04-27T15:55:02.986474Z",
     "iopub.status.idle": "2024-04-27T15:55:02.991554Z",
     "shell.execute_reply": "2024-04-27T15:55:02.990654Z"
    },
    "papermill": {
     "duration": 0.016235,
     "end_time": "2024-04-27T15:55:02.993459",
     "exception": false,
     "start_time": "2024-04-27T15:55:02.977224",
     "status": "completed"
    },
    "tags": []
   },
   "outputs": [],
   "source": [
    "def rate_scheduler(epoch, lr):\n",
    "    lr_max = 5e-4\n",
    "    decay = 0.95\n",
    "    ramp_ep = 3\n",
    "    if epoch <= ramp_ep:\n",
    "        return lr + (lr_max - lr) / (ramp_ep - epoch + 1)\n",
    "    else:\n",
    "        return lr * decay"
   ]
  },
  {
   "cell_type": "code",
   "execution_count": 13,
   "id": "0816714a",
   "metadata": {
    "execution": {
     "iopub.execute_input": "2024-04-27T15:55:03.011600Z",
     "iopub.status.busy": "2024-04-27T15:55:03.011338Z",
     "iopub.status.idle": "2024-04-27T15:55:03.015923Z",
     "shell.execute_reply": "2024-04-27T15:55:03.015113Z"
    },
    "papermill": {
     "duration": 0.015799,
     "end_time": "2024-04-27T15:55:03.017845",
     "exception": false,
     "start_time": "2024-04-27T15:55:03.002046",
     "status": "completed"
    },
    "tags": []
   },
   "outputs": [],
   "source": [
    "checkpoint = keras.callbacks.ModelCheckpoint(\"/kaggle/working/v1-{epoch}.weights.h5\", monitor=\"val_loss\", save_weights_only=True)\n",
    "best_checkpoint = keras.callbacks.ModelCheckpoint(\"/kaggle/working/v1.weights.h5\", monitor=\"val_loss\", save_weights_only=True, save_best_only=True)\n",
    "rate_control = keras.callbacks.LearningRateScheduler(rate_scheduler)"
   ]
  },
  {
   "cell_type": "code",
   "execution_count": 14,
   "id": "f091be33",
   "metadata": {
    "execution": {
     "iopub.execute_input": "2024-04-27T15:55:03.036082Z",
     "iopub.status.busy": "2024-04-27T15:55:03.035463Z",
     "iopub.status.idle": "2024-04-27T16:25:22.645180Z",
     "shell.execute_reply": "2024-04-27T16:25:22.643954Z"
    },
    "papermill": {
     "duration": 1819.797299,
     "end_time": "2024-04-27T16:25:22.823573",
     "exception": false,
     "start_time": "2024-04-27T15:55:03.026274",
     "status": "completed"
    },
    "tags": []
   },
   "outputs": [
    {
     "name": "stdout",
     "output_type": "stream",
     "text": [
      "Epoch 1/5\n"
     ]
    },
    {
     "name": "stderr",
     "output_type": "stream",
     "text": [
      "WARNING: All log messages before absl::InitializeLog() is called are written to STDERR\n",
      "I0000 00:00:1714233443.155063      73 device_compiler.h:186] Compiled cluster using XLA!  This line is logged at most once for the lifetime of the process.\n"
     ]
    },
    {
     "name": "stdout",
     "output_type": "stream",
     "text": [
      "\u001b[1m432/432\u001b[0m \u001b[32m━━━━━━━━━━━━━━━━━━━━\u001b[0m\u001b[37m\u001b[0m \u001b[1m490s\u001b[0m 811ms/step - loss: 1.2641 - val_loss: 0.9383 - learning_rate: 1.3250e-04\n",
      "Epoch 2/5\n",
      "\u001b[1m432/432\u001b[0m \u001b[32m━━━━━━━━━━━━━━━━━━━━\u001b[0m\u001b[37m\u001b[0m \u001b[1m339s\u001b[0m 784ms/step - loss: 1.0539 - val_loss: 0.8199 - learning_rate: 2.5500e-04\n",
      "Epoch 3/5\n",
      "\u001b[1m432/432\u001b[0m \u001b[32m━━━━━━━━━━━━━━━━━━━━\u001b[0m\u001b[37m\u001b[0m \u001b[1m332s\u001b[0m 769ms/step - loss: 0.9957 - val_loss: 0.8782 - learning_rate: 3.7750e-04\n",
      "Epoch 4/5\n",
      "\u001b[1m432/432\u001b[0m \u001b[32m━━━━━━━━━━━━━━━━━━━━\u001b[0m\u001b[37m\u001b[0m \u001b[1m328s\u001b[0m 761ms/step - loss: 0.9651 - val_loss: 0.8745 - learning_rate: 5.0000e-04\n",
      "Epoch 5/5\n",
      "\u001b[1m432/432\u001b[0m \u001b[32m━━━━━━━━━━━━━━━━━━━━\u001b[0m\u001b[37m\u001b[0m \u001b[1m330s\u001b[0m 764ms/step - loss: 0.9211 - val_loss: 0.7999 - learning_rate: 4.7500e-04\n"
     ]
    }
   ],
   "source": [
    "history = model.fit(train_ds, validation_data=val_ds, epochs=5, callbacks=[checkpoint, rate_control, best_checkpoint])"
   ]
  },
  {
   "cell_type": "markdown",
   "id": "e62dea89",
   "metadata": {
    "papermill": {
     "duration": 0.177752,
     "end_time": "2024-04-27T16:25:23.178235",
     "exception": false,
     "start_time": "2024-04-27T16:25:23.000483",
     "status": "completed"
    },
    "tags": []
   },
   "source": [
    "### Evaluate"
   ]
  },
  {
   "cell_type": "code",
   "execution_count": 15,
   "id": "a84eec4d",
   "metadata": {
    "execution": {
     "iopub.execute_input": "2024-04-27T16:25:23.543367Z",
     "iopub.status.busy": "2024-04-27T16:25:23.542514Z",
     "iopub.status.idle": "2024-04-27T16:25:23.548292Z",
     "shell.execute_reply": "2024-04-27T16:25:23.547443Z"
    },
    "papermill": {
     "duration": 0.193949,
     "end_time": "2024-04-27T16:25:23.550279",
     "exception": false,
     "start_time": "2024-04-27T16:25:23.356330",
     "status": "completed"
    },
    "tags": []
   },
   "outputs": [],
   "source": [
    "def load_model(path):\n",
    "    classifier = keras_nlp.models.DebertaV3Classifier.from_preset(\n",
    "        CFG.preset, preprocessor=None, num_classes=6, activation=\"softmax\"\n",
    "    )\n",
    "\n",
    "    inp = classifier.input\n",
    "    logit = classifier(inp)\n",
    "\n",
    "    model = keras.Model(inp, logit)\n",
    "\n",
    "    model.load_weights(path)\n",
    "    \n",
    "    return model"
   ]
  },
  {
   "cell_type": "code",
   "execution_count": 16,
   "id": "a2761d08",
   "metadata": {
    "execution": {
     "iopub.execute_input": "2024-04-27T16:25:23.914660Z",
     "iopub.status.busy": "2024-04-27T16:25:23.914123Z",
     "iopub.status.idle": "2024-04-27T16:25:29.198339Z",
     "shell.execute_reply": "2024-04-27T16:25:29.197155Z"
    },
    "papermill": {
     "duration": 5.469222,
     "end_time": "2024-04-27T16:25:29.200606",
     "exception": false,
     "start_time": "2024-04-27T16:25:23.731384",
     "status": "completed"
    },
    "tags": []
   },
   "outputs": [
    {
     "name": "stderr",
     "output_type": "stream",
     "text": [
      "Attaching 'config.json' from model 'keras/deberta_v3/keras/deberta_v3_extra_small_en/2' to your Kaggle notebook...\n",
      "Attaching 'config.json' from model 'keras/deberta_v3/keras/deberta_v3_extra_small_en/2' to your Kaggle notebook...\n",
      "Attaching 'model.weights.h5' from model 'keras/deberta_v3/keras/deberta_v3_extra_small_en/2' to your Kaggle notebook...\n"
     ]
    }
   ],
   "source": [
    "test_model = load_model(\"v1.weights.h5\")"
   ]
  },
  {
   "cell_type": "code",
   "execution_count": 17,
   "id": "fcd3cb1d",
   "metadata": {
    "execution": {
     "iopub.execute_input": "2024-04-27T16:25:29.556845Z",
     "iopub.status.busy": "2024-04-27T16:25:29.556110Z",
     "iopub.status.idle": "2024-04-27T16:25:30.015394Z",
     "shell.execute_reply": "2024-04-27T16:25:30.014362Z"
    },
    "papermill": {
     "duration": 0.639387,
     "end_time": "2024-04-27T16:25:30.017739",
     "exception": false,
     "start_time": "2024-04-27T16:25:29.378352",
     "status": "completed"
    },
    "tags": []
   },
   "outputs": [],
   "source": [
    "test_df = pd.read_csv(f'{BASE_PATH}/test.csv')\n",
    "test_inp = preprocessor(test_df.full_text.tolist())\n",
    "prob = test_model(test_inp)\n",
    "predict = np.argmax(prob, axis=-1) + 1"
   ]
  },
  {
   "cell_type": "code",
   "execution_count": 18,
   "id": "d6a39119",
   "metadata": {
    "execution": {
     "iopub.execute_input": "2024-04-27T16:25:30.375966Z",
     "iopub.status.busy": "2024-04-27T16:25:30.375128Z",
     "iopub.status.idle": "2024-04-27T16:25:30.380290Z",
     "shell.execute_reply": "2024-04-27T16:25:30.379410Z"
    },
    "papermill": {
     "duration": 0.185474,
     "end_time": "2024-04-27T16:25:30.382258",
     "exception": false,
     "start_time": "2024-04-27T16:25:30.196784",
     "status": "completed"
    },
    "tags": []
   },
   "outputs": [],
   "source": [
    "out_df = pd.DataFrame({\n",
    "    'essay_id': test_df.essay_id,\n",
    "    'score': predict\n",
    "})"
   ]
  },
  {
   "cell_type": "code",
   "execution_count": 19,
   "id": "16b93ac3",
   "metadata": {
    "execution": {
     "iopub.execute_input": "2024-04-27T16:25:30.781194Z",
     "iopub.status.busy": "2024-04-27T16:25:30.780518Z",
     "iopub.status.idle": "2024-04-27T16:25:30.789283Z",
     "shell.execute_reply": "2024-04-27T16:25:30.788375Z"
    },
    "papermill": {
     "duration": 0.233189,
     "end_time": "2024-04-27T16:25:30.791282",
     "exception": false,
     "start_time": "2024-04-27T16:25:30.558093",
     "status": "completed"
    },
    "tags": []
   },
   "outputs": [],
   "source": [
    "out_df.to_csv(\"submission.csv\")"
   ]
  },
  {
   "cell_type": "code",
   "execution_count": 20,
   "id": "38d80641",
   "metadata": {
    "execution": {
     "iopub.execute_input": "2024-04-27T16:25:31.146355Z",
     "iopub.status.busy": "2024-04-27T16:25:31.145997Z",
     "iopub.status.idle": "2024-04-27T16:25:31.161822Z",
     "shell.execute_reply": "2024-04-27T16:25:31.160846Z"
    },
    "papermill": {
     "duration": 0.196044,
     "end_time": "2024-04-27T16:25:31.163928",
     "exception": false,
     "start_time": "2024-04-27T16:25:30.967884",
     "status": "completed"
    },
    "tags": []
   },
   "outputs": [
    {
     "data": {
      "text/html": [
       "<div>\n",
       "<style scoped>\n",
       "    .dataframe tbody tr th:only-of-type {\n",
       "        vertical-align: middle;\n",
       "    }\n",
       "\n",
       "    .dataframe tbody tr th {\n",
       "        vertical-align: top;\n",
       "    }\n",
       "\n",
       "    .dataframe thead th {\n",
       "        text-align: right;\n",
       "    }\n",
       "</style>\n",
       "<table border=\"1\" class=\"dataframe\">\n",
       "  <thead>\n",
       "    <tr style=\"text-align: right;\">\n",
       "      <th></th>\n",
       "      <th>essay_id</th>\n",
       "      <th>score</th>\n",
       "    </tr>\n",
       "  </thead>\n",
       "  <tbody>\n",
       "    <tr>\n",
       "      <th>0</th>\n",
       "      <td>000d118</td>\n",
       "      <td>3</td>\n",
       "    </tr>\n",
       "    <tr>\n",
       "      <th>1</th>\n",
       "      <td>000fe60</td>\n",
       "      <td>3</td>\n",
       "    </tr>\n",
       "    <tr>\n",
       "      <th>2</th>\n",
       "      <td>001ab80</td>\n",
       "      <td>4</td>\n",
       "    </tr>\n",
       "  </tbody>\n",
       "</table>\n",
       "</div>"
      ],
      "text/plain": [
       "  essay_id  score\n",
       "0  000d118      3\n",
       "1  000fe60      3\n",
       "2  001ab80      4"
      ]
     },
     "execution_count": 20,
     "metadata": {},
     "output_type": "execute_result"
    }
   ],
   "source": [
    "out_df"
   ]
  }
 ],
 "metadata": {
  "kaggle": {
   "accelerator": "nvidiaTeslaT4",
   "dataSources": [
    {
     "databundleVersionId": 8059942,
     "sourceId": 71485,
     "sourceType": "competition"
    },
    {
     "modelInstanceId": 4684,
     "sourceId": 6063,
     "sourceType": "modelInstanceVersion"
    }
   ],
   "dockerImageVersionId": 30698,
   "isGpuEnabled": true,
   "isInternetEnabled": false,
   "language": "python",
   "sourceType": "notebook"
  },
  "kernelspec": {
   "display_name": "Python 3",
   "language": "python",
   "name": "python3"
  },
  "language_info": {
   "codemirror_mode": {
    "name": "ipython",
    "version": 3
   },
   "file_extension": ".py",
   "mimetype": "text/x-python",
   "name": "python",
   "nbconvert_exporter": "python",
   "pygments_lexer": "ipython3",
   "version": "3.10.13"
  },
  "papermill": {
   "default_parameters": {},
   "duration": 1870.203803,
   "end_time": "2024-04-27T16:25:35.265235",
   "environment_variables": {},
   "exception": null,
   "input_path": "__notebook__.ipynb",
   "output_path": "__notebook__.ipynb",
   "parameters": {},
   "start_time": "2024-04-27T15:54:25.061432",
   "version": "2.5.0"
  }
 },
 "nbformat": 4,
 "nbformat_minor": 5
}
