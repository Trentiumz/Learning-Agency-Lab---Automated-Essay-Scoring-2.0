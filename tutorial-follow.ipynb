{
 "cells": [
  {
   "cell_type": "code",
   "execution_count": 1,
   "id": "6e4a953c",
   "metadata": {
    "_cell_guid": "b1076dfc-b9ad-4769-8c92-a6c4dae69d19",
    "_uuid": "8f2839f25d086af736a60e9eeb907d3b93b6e0e5",
    "execution": {
     "iopub.execute_input": "2024-05-01T23:59:30.575490Z",
     "iopub.status.busy": "2024-05-01T23:59:30.575162Z",
     "iopub.status.idle": "2024-05-01T23:59:44.492599Z",
     "shell.execute_reply": "2024-05-01T23:59:44.491803Z"
    },
    "papermill": {
     "duration": 13.928904,
     "end_time": "2024-05-01T23:59:44.495025",
     "exception": false,
     "start_time": "2024-05-01T23:59:30.566121",
     "status": "completed"
    },
    "tags": []
   },
   "outputs": [
    {
     "name": "stderr",
     "output_type": "stream",
     "text": [
      "2024-05-01 23:59:32.385521: E external/local_xla/xla/stream_executor/cuda/cuda_dnn.cc:9261] Unable to register cuDNN factory: Attempting to register factory for plugin cuDNN when one has already been registered\n",
      "2024-05-01 23:59:32.385657: E external/local_xla/xla/stream_executor/cuda/cuda_fft.cc:607] Unable to register cuFFT factory: Attempting to register factory for plugin cuFFT when one has already been registered\n",
      "2024-05-01 23:59:32.532473: E external/local_xla/xla/stream_executor/cuda/cuda_blas.cc:1515] Unable to register cuBLAS factory: Attempting to register factory for plugin cuBLAS when one has already been registered\n"
     ]
    }
   ],
   "source": [
    "import os\n",
    "os.environ['KERAS_BACKEND'] = 'tensorflow'\n",
    "\n",
    "import keras_nlp\n",
    "import keras\n",
    "import keras.backend as K\n",
    "import tensorflow as tf\n",
    "\n",
    "import numpy as np\n",
    "import pandas as pd\n",
    "\n",
    "import matplotlib.pyplot as plt\n",
    "import matplotlib as mpl\n",
    "\n",
    "cmap = mpl.colormaps['coolwarm']"
   ]
  },
  {
   "cell_type": "markdown",
   "id": "d9cc25ed",
   "metadata": {
    "papermill": {
     "duration": 0.007108,
     "end_time": "2024-05-01T23:59:44.509995",
     "exception": false,
     "start_time": "2024-05-01T23:59:44.502887",
     "status": "completed"
    },
    "tags": []
   },
   "source": [
    "### Configuration"
   ]
  },
  {
   "cell_type": "code",
   "execution_count": 2,
   "id": "9764e6a7",
   "metadata": {
    "execution": {
     "iopub.execute_input": "2024-05-01T23:59:44.525901Z",
     "iopub.status.busy": "2024-05-01T23:59:44.525363Z",
     "iopub.status.idle": "2024-05-01T23:59:44.530348Z",
     "shell.execute_reply": "2024-05-01T23:59:44.529518Z"
    },
    "papermill": {
     "duration": 0.014914,
     "end_time": "2024-05-01T23:59:44.532175",
     "exception": false,
     "start_time": "2024-05-01T23:59:44.517261",
     "status": "completed"
    },
    "tags": []
   },
   "outputs": [],
   "source": [
    "class CFG:\n",
    "    seed = 42\n",
    "    preset = 'deberta_v3_extra_small_en'\n",
    "    sequence_length = 512\n",
    "    epochs = 10\n",
    "    batch_size = 32\n",
    "    scheduler = 'exp'\n",
    "    cache = False\n",
    "    \n",
    "    lr_begin = 1e-5\n",
    "    lr_max = 2e-4\n",
    "    lr_num_ramp = 4\n",
    "    lr_decay_rate = 0.95"
   ]
  },
  {
   "cell_type": "code",
   "execution_count": 3,
   "id": "1e9980d7",
   "metadata": {
    "execution": {
     "iopub.execute_input": "2024-05-01T23:59:44.547845Z",
     "iopub.status.busy": "2024-05-01T23:59:44.547592Z",
     "iopub.status.idle": "2024-05-01T23:59:44.551673Z",
     "shell.execute_reply": "2024-05-01T23:59:44.550896Z"
    },
    "papermill": {
     "duration": 0.014072,
     "end_time": "2024-05-01T23:59:44.553568",
     "exception": false,
     "start_time": "2024-05-01T23:59:44.539496",
     "status": "completed"
    },
    "tags": []
   },
   "outputs": [],
   "source": [
    "keras.utils.set_random_seed(CFG.seed)\n",
    "keras.mixed_precision.set_global_policy('float32')"
   ]
  },
  {
   "cell_type": "markdown",
   "id": "3a39e591",
   "metadata": {
    "papermill": {
     "duration": 0.006962,
     "end_time": "2024-05-01T23:59:44.567754",
     "exception": false,
     "start_time": "2024-05-01T23:59:44.560792",
     "status": "completed"
    },
    "tags": []
   },
   "source": [
    "### Load Data"
   ]
  },
  {
   "cell_type": "code",
   "execution_count": 4,
   "id": "2f727cbd",
   "metadata": {
    "execution": {
     "iopub.execute_input": "2024-05-01T23:59:44.583639Z",
     "iopub.status.busy": "2024-05-01T23:59:44.582882Z",
     "iopub.status.idle": "2024-05-01T23:59:45.596720Z",
     "shell.execute_reply": "2024-05-01T23:59:45.595897Z"
    },
    "papermill": {
     "duration": 1.024158,
     "end_time": "2024-05-01T23:59:45.599144",
     "exception": false,
     "start_time": "2024-05-01T23:59:44.574986",
     "status": "completed"
    },
    "tags": []
   },
   "outputs": [],
   "source": [
    "BASE_PATH = '/kaggle/input/learning-agency-lab-automated-essay-scoring-2'\n",
    "\n",
    "df = pd.read_csv(f'{BASE_PATH}/train.csv')"
   ]
  },
  {
   "cell_type": "code",
   "execution_count": 5,
   "id": "03e8cb62",
   "metadata": {
    "execution": {
     "iopub.execute_input": "2024-05-01T23:59:45.620327Z",
     "iopub.status.busy": "2024-05-01T23:59:45.619996Z",
     "iopub.status.idle": "2024-05-01T23:59:46.383224Z",
     "shell.execute_reply": "2024-05-01T23:59:46.382404Z"
    },
    "papermill": {
     "duration": 0.775253,
     "end_time": "2024-05-01T23:59:46.385575",
     "exception": false,
     "start_time": "2024-05-01T23:59:45.610322",
     "status": "completed"
    },
    "tags": []
   },
   "outputs": [],
   "source": [
    "from sklearn.model_selection import train_test_split\n",
    "train_df, valid_df = train_test_split(df, test_size=0.2, stratify=df['score'])"
   ]
  },
  {
   "cell_type": "code",
   "execution_count": 6,
   "id": "6f7d7067",
   "metadata": {
    "execution": {
     "iopub.execute_input": "2024-05-01T23:59:46.401659Z",
     "iopub.status.busy": "2024-05-01T23:59:46.401352Z",
     "iopub.status.idle": "2024-05-01T23:59:46.413927Z",
     "shell.execute_reply": "2024-05-01T23:59:46.413052Z"
    },
    "papermill": {
     "duration": 0.022723,
     "end_time": "2024-05-01T23:59:46.415934",
     "exception": false,
     "start_time": "2024-05-01T23:59:46.393211",
     "status": "completed"
    },
    "tags": []
   },
   "outputs": [
    {
     "data": {
      "text/plain": [
       "score\n",
       "3    5024\n",
       "2    3778\n",
       "4    3141\n",
       "1    1001\n",
       "5     776\n",
       "6     125\n",
       "Name: count, dtype: int64"
      ]
     },
     "execution_count": 6,
     "metadata": {},
     "output_type": "execute_result"
    }
   ],
   "source": [
    "train_df.score.value_counts()"
   ]
  },
  {
   "cell_type": "markdown",
   "id": "82f0f8b0",
   "metadata": {
    "papermill": {
     "duration": 0.007257,
     "end_time": "2024-05-01T23:59:46.430635",
     "exception": false,
     "start_time": "2024-05-01T23:59:46.423378",
     "status": "completed"
    },
    "tags": []
   },
   "source": [
    "### Preprocessing"
   ]
  },
  {
   "cell_type": "code",
   "execution_count": 7,
   "id": "a85a6262",
   "metadata": {
    "execution": {
     "iopub.execute_input": "2024-05-01T23:59:46.446481Z",
     "iopub.status.busy": "2024-05-01T23:59:46.446222Z",
     "iopub.status.idle": "2024-05-01T23:59:48.956459Z",
     "shell.execute_reply": "2024-05-01T23:59:48.955599Z"
    },
    "papermill": {
     "duration": 2.520767,
     "end_time": "2024-05-01T23:59:48.958756",
     "exception": false,
     "start_time": "2024-05-01T23:59:46.437989",
     "status": "completed"
    },
    "tags": []
   },
   "outputs": [
    {
     "name": "stderr",
     "output_type": "stream",
     "text": [
      "Attaching 'tokenizer.json' from model 'keras/deberta_v3/keras/deberta_v3_extra_small_en/2' to your Kaggle notebook...\n",
      "Attaching 'tokenizer.json' from model 'keras/deberta_v3/keras/deberta_v3_extra_small_en/2' to your Kaggle notebook...\n",
      "Attaching 'assets/tokenizer/vocabulary.spm' from model 'keras/deberta_v3/keras/deberta_v3_extra_small_en/2' to your Kaggle notebook...\n"
     ]
    },
    {
     "name": "stdout",
     "output_type": "stream",
     "text": [
      "token_ids: (512,)\n",
      "padding_mask: (512,)\n"
     ]
    }
   ],
   "source": [
    "preprocessor = keras_nlp.models.DebertaV3Preprocessor.from_preset(\n",
    "    preset=CFG.preset,\n",
    "    sequence_length=CFG.sequence_length\n",
    ")\n",
    "\n",
    "for key, value in preprocessor(\"The quick fox jumped.\").items():\n",
    "    print(f'{key}: {value.shape}')"
   ]
  },
  {
   "cell_type": "markdown",
   "id": "b21cc5e1",
   "metadata": {
    "papermill": {
     "duration": 0.007855,
     "end_time": "2024-05-01T23:59:48.974575",
     "exception": false,
     "start_time": "2024-05-01T23:59:48.966720",
     "status": "completed"
    },
    "tags": []
   },
   "source": [
    "### Model Aids"
   ]
  },
  {
   "cell_type": "code",
   "execution_count": 8,
   "id": "9bb3da55",
   "metadata": {
    "execution": {
     "iopub.execute_input": "2024-05-01T23:59:48.991188Z",
     "iopub.status.busy": "2024-05-01T23:59:48.990886Z",
     "iopub.status.idle": "2024-05-01T23:59:49.003032Z",
     "shell.execute_reply": "2024-05-01T23:59:49.002307Z"
    },
    "papermill": {
     "duration": 0.022507,
     "end_time": "2024-05-01T23:59:49.004881",
     "exception": false,
     "start_time": "2024-05-01T23:59:48.982374",
     "status": "completed"
    },
    "tags": []
   },
   "outputs": [],
   "source": [
    "num_classes = 6\n",
    "W = tf.cast(tf.constant([[(j-i)**2 / (num_classes - 1) ** 2 for j in range(num_classes)] for i in range(num_classes)]), 'float32')\n",
    "def weighted_kappa(y_true, y_pred):\n",
    "    # y_true = [item in batch] = correct y\n",
    "    # y_pred = [item in batch, y prediction] = softmax probability\n",
    "    # y_logit = [item in batch, y logit] = one-hot encoded\n",
    "    E_pred = tf.math.reduce_sum(y_pred, axis=0)\n",
    "    E_true = tf.math.reduce_sum(y_true, axis=0)\n",
    "    E = tf.tensordot(E_true, E_pred, 0)\n",
    "    O = tf.tensordot(y_true, y_pred, ([0], [0]))\n",
    "    E /= tf.math.reduce_sum(E)\n",
    "    O /= tf.math.reduce_sum(O)\n",
    "    return 1 - tf.math.reduce_sum(W * O) / tf.math.reduce_sum(W * E)\n",
    "\n",
    "# between 0 and 2, 0 is perfect correct and 2 is perfectly incorrect\n",
    "def anti_weighted_kappa(y_true, y_pred):\n",
    "    return 1 - weighted_kappa(y_true, y_pred)"
   ]
  },
  {
   "cell_type": "markdown",
   "id": "7beb8ae5",
   "metadata": {
    "papermill": {
     "duration": 0.00753,
     "end_time": "2024-05-01T23:59:49.019970",
     "exception": false,
     "start_time": "2024-05-01T23:59:49.012440",
     "status": "completed"
    },
    "tags": []
   },
   "source": [
    "### Model Definition"
   ]
  },
  {
   "cell_type": "code",
   "execution_count": 9,
   "id": "bcd53793",
   "metadata": {
    "execution": {
     "iopub.execute_input": "2024-05-01T23:59:49.036448Z",
     "iopub.status.busy": "2024-05-01T23:59:49.036181Z",
     "iopub.status.idle": "2024-05-01T23:59:54.379139Z",
     "shell.execute_reply": "2024-05-01T23:59:54.378278Z"
    },
    "papermill": {
     "duration": 5.353289,
     "end_time": "2024-05-01T23:59:54.381054",
     "exception": false,
     "start_time": "2024-05-01T23:59:49.027765",
     "status": "completed"
    },
    "tags": []
   },
   "outputs": [
    {
     "name": "stderr",
     "output_type": "stream",
     "text": [
      "Attaching 'config.json' from model 'keras/deberta_v3/keras/deberta_v3_extra_small_en/2' to your Kaggle notebook...\n",
      "Attaching 'config.json' from model 'keras/deberta_v3/keras/deberta_v3_extra_small_en/2' to your Kaggle notebook...\n",
      "Attaching 'model.weights.h5' from model 'keras/deberta_v3/keras/deberta_v3_extra_small_en/2' to your Kaggle notebook...\n"
     ]
    },
    {
     "data": {
      "text/html": [
       "<pre style=\"white-space:pre;overflow-x:auto;line-height:normal;font-family:Menlo,'DejaVu Sans Mono',consolas,'Courier New',monospace\"><span style=\"font-weight: bold\">Model: \"functional_1\"</span>\n",
       "</pre>\n"
      ],
      "text/plain": [
       "\u001b[1mModel: \"functional_1\"\u001b[0m\n"
      ]
     },
     "metadata": {},
     "output_type": "display_data"
    },
    {
     "data": {
      "text/html": [
       "<pre style=\"white-space:pre;overflow-x:auto;line-height:normal;font-family:Menlo,'DejaVu Sans Mono',consolas,'Courier New',monospace\">┏━━━━━━━━━━━━━━━━━━━━━┳━━━━━━━━━━━━━━━━━━━┳━━━━━━━━━━━━┳━━━━━━━━━━━━━━━━━━━┓\n",
       "┃<span style=\"font-weight: bold\"> Layer (type)        </span>┃<span style=\"font-weight: bold\"> Output Shape      </span>┃<span style=\"font-weight: bold\">    Param # </span>┃<span style=\"font-weight: bold\"> Connected to      </span>┃\n",
       "┡━━━━━━━━━━━━━━━━━━━━━╇━━━━━━━━━━━━━━━━━━━╇━━━━━━━━━━━━╇━━━━━━━━━━━━━━━━━━━┩\n",
       "│ padding_mask        │ (<span style=\"color: #00d7ff; text-decoration-color: #00d7ff\">None</span>, <span style=\"color: #00d7ff; text-decoration-color: #00d7ff\">None</span>)      │          <span style=\"color: #00af00; text-decoration-color: #00af00\">0</span> │ -                 │\n",
       "│ (<span style=\"color: #0087ff; text-decoration-color: #0087ff\">InputLayer</span>)        │                   │            │                   │\n",
       "├─────────────────────┼───────────────────┼────────────┼───────────────────┤\n",
       "│ token_ids           │ (<span style=\"color: #00d7ff; text-decoration-color: #00d7ff\">None</span>, <span style=\"color: #00d7ff; text-decoration-color: #00d7ff\">None</span>)      │          <span style=\"color: #00af00; text-decoration-color: #00af00\">0</span> │ -                 │\n",
       "│ (<span style=\"color: #0087ff; text-decoration-color: #0087ff\">InputLayer</span>)        │                   │            │                   │\n",
       "├─────────────────────┼───────────────────┼────────────┼───────────────────┤\n",
       "│ deberta_v3_classif… │ (<span style=\"color: #00d7ff; text-decoration-color: #00d7ff\">None</span>, <span style=\"color: #00af00; text-decoration-color: #00af00\">6</span>)         │ <span style=\"color: #00af00; text-decoration-color: #00af00\">70,832,262</span> │ padding_mask[<span style=\"color: #00af00; text-decoration-color: #00af00\">0</span>][<span style=\"color: #00af00; text-decoration-color: #00af00\">…</span> │\n",
       "│ (<span style=\"color: #0087ff; text-decoration-color: #0087ff\">DebertaV3Classifi…</span> │                   │            │ token_ids[<span style=\"color: #00af00; text-decoration-color: #00af00\">0</span>][<span style=\"color: #00af00; text-decoration-color: #00af00\">0</span>]   │\n",
       "└─────────────────────┴───────────────────┴────────────┴───────────────────┘\n",
       "</pre>\n"
      ],
      "text/plain": [
       "┏━━━━━━━━━━━━━━━━━━━━━┳━━━━━━━━━━━━━━━━━━━┳━━━━━━━━━━━━┳━━━━━━━━━━━━━━━━━━━┓\n",
       "┃\u001b[1m \u001b[0m\u001b[1mLayer (type)       \u001b[0m\u001b[1m \u001b[0m┃\u001b[1m \u001b[0m\u001b[1mOutput Shape     \u001b[0m\u001b[1m \u001b[0m┃\u001b[1m \u001b[0m\u001b[1m   Param #\u001b[0m\u001b[1m \u001b[0m┃\u001b[1m \u001b[0m\u001b[1mConnected to     \u001b[0m\u001b[1m \u001b[0m┃\n",
       "┡━━━━━━━━━━━━━━━━━━━━━╇━━━━━━━━━━━━━━━━━━━╇━━━━━━━━━━━━╇━━━━━━━━━━━━━━━━━━━┩\n",
       "│ padding_mask        │ (\u001b[38;5;45mNone\u001b[0m, \u001b[38;5;45mNone\u001b[0m)      │          \u001b[38;5;34m0\u001b[0m │ -                 │\n",
       "│ (\u001b[38;5;33mInputLayer\u001b[0m)        │                   │            │                   │\n",
       "├─────────────────────┼───────────────────┼────────────┼───────────────────┤\n",
       "│ token_ids           │ (\u001b[38;5;45mNone\u001b[0m, \u001b[38;5;45mNone\u001b[0m)      │          \u001b[38;5;34m0\u001b[0m │ -                 │\n",
       "│ (\u001b[38;5;33mInputLayer\u001b[0m)        │                   │            │                   │\n",
       "├─────────────────────┼───────────────────┼────────────┼───────────────────┤\n",
       "│ deberta_v3_classif… │ (\u001b[38;5;45mNone\u001b[0m, \u001b[38;5;34m6\u001b[0m)         │ \u001b[38;5;34m70,832,262\u001b[0m │ padding_mask[\u001b[38;5;34m0\u001b[0m][\u001b[38;5;34m…\u001b[0m │\n",
       "│ (\u001b[38;5;33mDebertaV3Classifi…\u001b[0m │                   │            │ token_ids[\u001b[38;5;34m0\u001b[0m][\u001b[38;5;34m0\u001b[0m]   │\n",
       "└─────────────────────┴───────────────────┴────────────┴───────────────────┘\n"
      ]
     },
     "metadata": {},
     "output_type": "display_data"
    },
    {
     "data": {
      "text/html": [
       "<pre style=\"white-space:pre;overflow-x:auto;line-height:normal;font-family:Menlo,'DejaVu Sans Mono',consolas,'Courier New',monospace\"><span style=\"font-weight: bold\"> Total params: </span><span style=\"color: #00af00; text-decoration-color: #00af00\">70,832,262</span> (270.20 MB)\n",
       "</pre>\n"
      ],
      "text/plain": [
       "\u001b[1m Total params: \u001b[0m\u001b[38;5;34m70,832,262\u001b[0m (270.20 MB)\n"
      ]
     },
     "metadata": {},
     "output_type": "display_data"
    },
    {
     "data": {
      "text/html": [
       "<pre style=\"white-space:pre;overflow-x:auto;line-height:normal;font-family:Menlo,'DejaVu Sans Mono',consolas,'Courier New',monospace\"><span style=\"font-weight: bold\"> Trainable params: </span><span style=\"color: #00af00; text-decoration-color: #00af00\">70,832,262</span> (270.20 MB)\n",
       "</pre>\n"
      ],
      "text/plain": [
       "\u001b[1m Trainable params: \u001b[0m\u001b[38;5;34m70,832,262\u001b[0m (270.20 MB)\n"
      ]
     },
     "metadata": {},
     "output_type": "display_data"
    },
    {
     "data": {
      "text/html": [
       "<pre style=\"white-space:pre;overflow-x:auto;line-height:normal;font-family:Menlo,'DejaVu Sans Mono',consolas,'Courier New',monospace\"><span style=\"font-weight: bold\"> Non-trainable params: </span><span style=\"color: #00af00; text-decoration-color: #00af00\">0</span> (0.00 B)\n",
       "</pre>\n"
      ],
      "text/plain": [
       "\u001b[1m Non-trainable params: \u001b[0m\u001b[38;5;34m0\u001b[0m (0.00 B)\n"
      ]
     },
     "metadata": {},
     "output_type": "display_data"
    }
   ],
   "source": [
    "classifier = keras_nlp.models.DebertaV3Classifier.from_preset(\n",
    "    CFG.preset, preprocessor=None, num_classes=6, activation=\"softmax\"\n",
    ")\n",
    "\n",
    "inp = classifier.input\n",
    "logit = classifier(inp)\n",
    "\n",
    "model = keras.Model(inp, logit)\n",
    "model.compile(optimizer=keras.optimizers.RMSprop(learning_rate=CFG.lr_begin), loss=anti_weighted_kappa, metrics=[weighted_kappa, keras.metrics.CategoricalAccuracy()])\n",
    "\n",
    "model.summary()"
   ]
  },
  {
   "cell_type": "code",
   "execution_count": 10,
   "id": "0866fba6",
   "metadata": {
    "execution": {
     "iopub.execute_input": "2024-05-01T23:59:54.400928Z",
     "iopub.status.busy": "2024-05-01T23:59:54.400134Z",
     "iopub.status.idle": "2024-05-01T23:59:58.647090Z",
     "shell.execute_reply": "2024-05-01T23:59:58.646038Z"
    },
    "papermill": {
     "duration": 4.259121,
     "end_time": "2024-05-01T23:59:58.649136",
     "exception": false,
     "start_time": "2024-05-01T23:59:54.390015",
     "status": "completed"
    },
    "tags": []
   },
   "outputs": [
    {
     "data": {
      "text/plain": [
       "<tf.Tensor: shape=(1, 6), dtype=float32, numpy=\n",
       "array([[0.16138707, 0.19296643, 0.16298348, 0.15415876, 0.19217007,\n",
       "        0.13633417]], dtype=float32)>"
      ]
     },
     "execution_count": 10,
     "metadata": {},
     "output_type": "execute_result"
    }
   ],
   "source": [
    "tmp = preprocessor([\"hello my friend!\"])\n",
    "model(tmp)"
   ]
  },
  {
   "cell_type": "markdown",
   "id": "e8672313",
   "metadata": {
    "papermill": {
     "duration": 0.009051,
     "end_time": "2024-05-01T23:59:58.667222",
     "exception": false,
     "start_time": "2024-05-01T23:59:58.658171",
     "status": "completed"
    },
    "tags": []
   },
   "source": [
    "### Data Stream"
   ]
  },
  {
   "cell_type": "code",
   "execution_count": 11,
   "id": "906e2557",
   "metadata": {
    "execution": {
     "iopub.execute_input": "2024-05-01T23:59:58.686219Z",
     "iopub.status.busy": "2024-05-01T23:59:58.685910Z",
     "iopub.status.idle": "2024-05-01T23:59:58.691976Z",
     "shell.execute_reply": "2024-05-01T23:59:58.691202Z"
    },
    "papermill": {
     "duration": 0.017548,
     "end_time": "2024-05-01T23:59:58.693762",
     "exception": false,
     "start_time": "2024-05-01T23:59:58.676214",
     "status": "completed"
    },
    "tags": []
   },
   "outputs": [],
   "source": [
    "def build_ds(texts, scores, drop_batch_remainder=False):\n",
    "    inp = preprocessor(texts)\n",
    "    ds = tf.data.Dataset.from_tensor_slices((inp, scores))\n",
    "    ds = ds.prefetch(tf.data.AUTOTUNE)\n",
    "    ds = ds.shuffle(256)\n",
    "    ds = ds.cache()\n",
    "    ds = ds.batch(CFG.batch_size, drop_remainder=drop_batch_remainder)\n",
    "    def one_hot_score(inp, score):\n",
    "        return (inp, tf.one_hot(score, 6))\n",
    "    ds = ds.map(one_hot_score)\n",
    "    return ds"
   ]
  },
  {
   "cell_type": "code",
   "execution_count": 12,
   "id": "15ebae94",
   "metadata": {
    "execution": {
     "iopub.execute_input": "2024-05-01T23:59:58.712520Z",
     "iopub.status.busy": "2024-05-01T23:59:58.712226Z",
     "iopub.status.idle": "2024-05-02T00:00:03.586609Z",
     "shell.execute_reply": "2024-05-02T00:00:03.585788Z"
    },
    "papermill": {
     "duration": 4.886307,
     "end_time": "2024-05-02T00:00:03.588852",
     "exception": false,
     "start_time": "2024-05-01T23:59:58.702545",
     "status": "completed"
    },
    "tags": []
   },
   "outputs": [],
   "source": [
    "train_ds = build_ds(train_df.full_text.tolist(), np.asarray(train_df.score.tolist())-1, True)\n",
    "\n",
    "val_ds = build_ds(train_df.full_text.tolist(), np.asarray(train_df.score.tolist())-1, False)"
   ]
  },
  {
   "cell_type": "markdown",
   "id": "5ca5b18e",
   "metadata": {
    "papermill": {
     "duration": 0.008763,
     "end_time": "2024-05-02T00:00:03.606736",
     "exception": false,
     "start_time": "2024-05-02T00:00:03.597973",
     "status": "completed"
    },
    "tags": []
   },
   "source": [
    "### Training"
   ]
  },
  {
   "cell_type": "code",
   "execution_count": 13,
   "id": "d778acdf",
   "metadata": {
    "execution": {
     "iopub.execute_input": "2024-05-02T00:00:03.625885Z",
     "iopub.status.busy": "2024-05-02T00:00:03.625565Z",
     "iopub.status.idle": "2024-05-02T00:00:03.630442Z",
     "shell.execute_reply": "2024-05-02T00:00:03.629610Z"
    },
    "papermill": {
     "duration": 0.016711,
     "end_time": "2024-05-02T00:00:03.632400",
     "exception": false,
     "start_time": "2024-05-02T00:00:03.615689",
     "status": "completed"
    },
    "tags": []
   },
   "outputs": [],
   "source": [
    "def rate_scheduler(epoch, lr):\n",
    "    lr_max = CFG.lr_max\n",
    "    decay = CFG.lr_decay_rate\n",
    "    ramp_ep = CFG.lr_num_ramp\n",
    "    if epoch < ramp_ep:\n",
    "        return lr + (lr_max - lr) / (ramp_ep - epoch)\n",
    "    else:\n",
    "        return lr * decay"
   ]
  },
  {
   "cell_type": "code",
   "execution_count": 14,
   "id": "48796be2",
   "metadata": {
    "execution": {
     "iopub.execute_input": "2024-05-02T00:00:03.651635Z",
     "iopub.status.busy": "2024-05-02T00:00:03.651339Z",
     "iopub.status.idle": "2024-05-02T00:00:03.656084Z",
     "shell.execute_reply": "2024-05-02T00:00:03.655307Z"
    },
    "papermill": {
     "duration": 0.016733,
     "end_time": "2024-05-02T00:00:03.657947",
     "exception": false,
     "start_time": "2024-05-02T00:00:03.641214",
     "status": "completed"
    },
    "tags": []
   },
   "outputs": [],
   "source": [
    "checkpoint = keras.callbacks.ModelCheckpoint(\"/kaggle/working/v1-{epoch}.weights.h5\", monitor=\"val_loss\", save_weights_only=True)\n",
    "best_checkpoint = keras.callbacks.ModelCheckpoint(\"/kaggle/working/v1.weights.h5\", monitor=\"val_loss\", save_weights_only=True, save_best_only=True)\n",
    "rate_control = keras.callbacks.LearningRateScheduler(rate_scheduler)"
   ]
  },
  {
   "cell_type": "code",
   "execution_count": 15,
   "id": "e7f124c5",
   "metadata": {
    "execution": {
     "iopub.execute_input": "2024-05-02T00:00:03.676302Z",
     "iopub.status.busy": "2024-05-02T00:00:03.676035Z",
     "iopub.status.idle": "2024-05-02T01:12:31.536116Z",
     "shell.execute_reply": "2024-05-02T01:12:31.535135Z"
    },
    "papermill": {
     "duration": 4348.230311,
     "end_time": "2024-05-02T01:12:31.896959",
     "exception": false,
     "start_time": "2024-05-02T00:00:03.666648",
     "status": "completed"
    },
    "tags": []
   },
   "outputs": [
    {
     "name": "stdout",
     "output_type": "stream",
     "text": [
      "Epoch 1/10\n"
     ]
    },
    {
     "name": "stderr",
     "output_type": "stream",
     "text": [
      "WARNING: All log messages before absl::InitializeLog() is called are written to STDERR\n",
      "I0000 00:00:1714608137.384116      70 device_compiler.h:186] Compiled cluster using XLA!  This line is logged at most once for the lifetime of the process.\n",
      "W0000 00:00:1714608137.492697      70 graph_launch.cc:671] Fallback to op-by-op mode because memset node breaks graph update\n"
     ]
    },
    {
     "name": "stdout",
     "output_type": "stream",
     "text": [
      "\u001b[1m  1/432\u001b[0m \u001b[37m━━━━━━━━━━━━━━━━━━━━\u001b[0m \u001b[1m16:06:24\u001b[0m 135s/step - categorical_accuracy: 0.0625 - loss: 1.0044 - weighted_kappa: -0.0044"
     ]
    },
    {
     "name": "stderr",
     "output_type": "stream",
     "text": [
      "W0000 00:00:1714608138.213593      70 graph_launch.cc:671] Fallback to op-by-op mode because memset node breaks graph update\n"
     ]
    },
    {
     "name": "stdout",
     "output_type": "stream",
     "text": [
      "\u001b[1m432/432\u001b[0m \u001b[32m━━━━━━━━━━━━━━━━━━━━\u001b[0m\u001b[37m\u001b[0m \u001b[1m0s\u001b[0m 712ms/step - categorical_accuracy: 0.2592 - loss: 0.6276 - weighted_kappa: 0.3724"
     ]
    },
    {
     "name": "stderr",
     "output_type": "stream",
     "text": [
      "W0000 00:00:1714608552.868270      69 graph_launch.cc:671] Fallback to op-by-op mode because memset node breaks graph update\n"
     ]
    },
    {
     "name": "stdout",
     "output_type": "stream",
     "text": [
      "\u001b[1m432/432\u001b[0m \u001b[32m━━━━━━━━━━━━━━━━━━━━\u001b[0m\u001b[37m\u001b[0m \u001b[1m552s\u001b[0m 968ms/step - categorical_accuracy: 0.2596 - loss: 0.6271 - weighted_kappa: 0.3729 - val_categorical_accuracy: 0.5008 - val_loss: 0.2761 - val_weighted_kappa: 0.7238 - learning_rate: 5.7500e-05\n",
      "Epoch 2/10\n",
      "\u001b[1m432/432\u001b[0m \u001b[32m━━━━━━━━━━━━━━━━━━━━\u001b[0m\u001b[37m\u001b[0m \u001b[1m407s\u001b[0m 942ms/step - categorical_accuracy: 0.4776 - loss: 0.3157 - weighted_kappa: 0.6843 - val_categorical_accuracy: 0.5710 - val_loss: 0.2210 - val_weighted_kappa: 0.7790 - learning_rate: 1.0500e-04\n",
      "Epoch 3/10\n",
      "\u001b[1m432/432\u001b[0m \u001b[32m━━━━━━━━━━━━━━━━━━━━\u001b[0m\u001b[37m\u001b[0m \u001b[1m405s\u001b[0m 938ms/step - categorical_accuracy: 0.4844 - loss: 0.3048 - weighted_kappa: 0.6952 - val_categorical_accuracy: 0.5388 - val_loss: 0.2900 - val_weighted_kappa: 0.7100 - learning_rate: 1.5250e-04\n",
      "Epoch 4/10\n",
      "\u001b[1m432/432\u001b[0m \u001b[32m━━━━━━━━━━━━━━━━━━━━\u001b[0m\u001b[37m\u001b[0m \u001b[1m405s\u001b[0m 939ms/step - categorical_accuracy: 0.4935 - loss: 0.3074 - weighted_kappa: 0.6926 - val_categorical_accuracy: 0.5801 - val_loss: 0.3461 - val_weighted_kappa: 0.6539 - learning_rate: 2.0000e-04\n",
      "Epoch 5/10\n",
      "\u001b[1m432/432\u001b[0m \u001b[32m━━━━━━━━━━━━━━━━━━━━\u001b[0m\u001b[37m\u001b[0m \u001b[1m405s\u001b[0m 938ms/step - categorical_accuracy: 0.5133 - loss: 0.3049 - weighted_kappa: 0.6951 - val_categorical_accuracy: 0.5298 - val_loss: 0.3055 - val_weighted_kappa: 0.6945 - learning_rate: 1.9000e-04\n",
      "Epoch 6/10\n",
      "\u001b[1m432/432\u001b[0m \u001b[32m━━━━━━━━━━━━━━━━━━━━\u001b[0m\u001b[37m\u001b[0m \u001b[1m442s\u001b[0m 938ms/step - categorical_accuracy: 0.4906 - loss: 0.2998 - weighted_kappa: 0.7002 - val_categorical_accuracy: 0.5177 - val_loss: 0.3371 - val_weighted_kappa: 0.6629 - learning_rate: 1.8050e-04\n",
      "Epoch 7/10\n",
      "\u001b[1m432/432\u001b[0m \u001b[32m━━━━━━━━━━━━━━━━━━━━\u001b[0m\u001b[37m\u001b[0m \u001b[1m442s\u001b[0m 938ms/step - categorical_accuracy: 0.5159 - loss: 0.2833 - weighted_kappa: 0.7167 - val_categorical_accuracy: 0.5184 - val_loss: 0.3152 - val_weighted_kappa: 0.6847 - learning_rate: 1.7147e-04\n",
      "Epoch 8/10\n",
      "\u001b[1m432/432\u001b[0m \u001b[32m━━━━━━━━━━━━━━━━━━━━\u001b[0m\u001b[37m\u001b[0m \u001b[1m405s\u001b[0m 938ms/step - categorical_accuracy: 0.5339 - loss: 0.2808 - weighted_kappa: 0.7192 - val_categorical_accuracy: 0.5683 - val_loss: 0.2301 - val_weighted_kappa: 0.7699 - learning_rate: 1.6290e-04\n",
      "Epoch 9/10\n",
      "\u001b[1m432/432\u001b[0m \u001b[32m━━━━━━━━━━━━━━━━━━━━\u001b[0m\u001b[37m\u001b[0m \u001b[1m442s\u001b[0m 939ms/step - categorical_accuracy: 0.5161 - loss: 0.2921 - weighted_kappa: 0.7079 - val_categorical_accuracy: 0.6155 - val_loss: 0.2555 - val_weighted_kappa: 0.7444 - learning_rate: 1.5476e-04\n",
      "Epoch 10/10\n",
      "\u001b[1m432/432\u001b[0m \u001b[32m━━━━━━━━━━━━━━━━━━━━\u001b[0m\u001b[37m\u001b[0m \u001b[1m442s\u001b[0m 940ms/step - categorical_accuracy: 0.5550 - loss: 0.2661 - weighted_kappa: 0.7339 - val_categorical_accuracy: 0.5897 - val_loss: 0.2924 - val_weighted_kappa: 0.7075 - learning_rate: 1.4702e-04\n"
     ]
    }
   ],
   "source": [
    "history = model.fit(train_ds, validation_data=val_ds, epochs=CFG.epochs, callbacks=[checkpoint, rate_control, best_checkpoint])"
   ]
  },
  {
   "cell_type": "markdown",
   "id": "f31e0546",
   "metadata": {
    "papermill": {
     "duration": 0.363202,
     "end_time": "2024-05-02T01:12:32.619129",
     "exception": false,
     "start_time": "2024-05-02T01:12:32.255927",
     "status": "completed"
    },
    "tags": []
   },
   "source": [
    "### Evaluate"
   ]
  },
  {
   "cell_type": "code",
   "execution_count": 16,
   "id": "7af2986c",
   "metadata": {
    "execution": {
     "iopub.execute_input": "2024-05-02T01:12:33.438598Z",
     "iopub.status.busy": "2024-05-02T01:12:33.438190Z",
     "iopub.status.idle": "2024-05-02T01:12:33.445454Z",
     "shell.execute_reply": "2024-05-02T01:12:33.444597Z"
    },
    "papermill": {
     "duration": 0.408595,
     "end_time": "2024-05-02T01:12:33.447375",
     "exception": false,
     "start_time": "2024-05-02T01:12:33.038780",
     "status": "completed"
    },
    "tags": []
   },
   "outputs": [],
   "source": [
    "def load_model(path):\n",
    "    classifier = keras_nlp.models.DebertaV3Classifier.from_preset(\n",
    "        CFG.preset, preprocessor=None, num_classes=6, activation=\"softmax\"\n",
    "    )\n",
    "\n",
    "    inp = classifier.input\n",
    "    logit = classifier(inp)\n",
    "\n",
    "    model = keras.Model(inp, logit)\n",
    "\n",
    "    model.load_weights(path)\n",
    "    \n",
    "    return model"
   ]
  },
  {
   "cell_type": "code",
   "execution_count": 17,
   "id": "d4fbf31e",
   "metadata": {
    "execution": {
     "iopub.execute_input": "2024-05-02T01:12:34.189723Z",
     "iopub.status.busy": "2024-05-02T01:12:34.189338Z",
     "iopub.status.idle": "2024-05-02T01:12:39.950428Z",
     "shell.execute_reply": "2024-05-02T01:12:39.949586Z"
    },
    "papermill": {
     "duration": 6.131012,
     "end_time": "2024-05-02T01:12:39.952889",
     "exception": false,
     "start_time": "2024-05-02T01:12:33.821877",
     "status": "completed"
    },
    "tags": []
   },
   "outputs": [
    {
     "name": "stderr",
     "output_type": "stream",
     "text": [
      "Attaching 'config.json' from model 'keras/deberta_v3/keras/deberta_v3_extra_small_en/2' to your Kaggle notebook...\n",
      "Attaching 'config.json' from model 'keras/deberta_v3/keras/deberta_v3_extra_small_en/2' to your Kaggle notebook...\n",
      "Attaching 'model.weights.h5' from model 'keras/deberta_v3/keras/deberta_v3_extra_small_en/2' to your Kaggle notebook...\n"
     ]
    }
   ],
   "source": [
    "test_model = load_model(\"v1.weights.h5\")"
   ]
  },
  {
   "cell_type": "code",
   "execution_count": 18,
   "id": "6c10df14",
   "metadata": {
    "execution": {
     "iopub.execute_input": "2024-05-02T01:12:40.740291Z",
     "iopub.status.busy": "2024-05-02T01:12:40.739616Z",
     "iopub.status.idle": "2024-05-02T01:12:41.153401Z",
     "shell.execute_reply": "2024-05-02T01:12:41.152546Z"
    },
    "papermill": {
     "duration": 0.817331,
     "end_time": "2024-05-02T01:12:41.155741",
     "exception": false,
     "start_time": "2024-05-02T01:12:40.338410",
     "status": "completed"
    },
    "tags": []
   },
   "outputs": [],
   "source": [
    "test_df = pd.read_csv(f'{BASE_PATH}/test.csv')\n",
    "test_inp = preprocessor(test_df.full_text.tolist())\n",
    "prob = test_model(test_inp)\n",
    "predict = np.argmax(prob, axis=-1) + 1"
   ]
  },
  {
   "cell_type": "code",
   "execution_count": 19,
   "id": "1447570b",
   "metadata": {
    "execution": {
     "iopub.execute_input": "2024-05-02T01:12:41.928371Z",
     "iopub.status.busy": "2024-05-02T01:12:41.927995Z",
     "iopub.status.idle": "2024-05-02T01:12:41.933337Z",
     "shell.execute_reply": "2024-05-02T01:12:41.932294Z"
    },
    "papermill": {
     "duration": 0.39901,
     "end_time": "2024-05-02T01:12:41.935587",
     "exception": false,
     "start_time": "2024-05-02T01:12:41.536577",
     "status": "completed"
    },
    "tags": []
   },
   "outputs": [],
   "source": [
    "out_df = pd.DataFrame({\n",
    "    'essay_id': test_df.essay_id,\n",
    "    'score': predict\n",
    "})"
   ]
  },
  {
   "cell_type": "code",
   "execution_count": 20,
   "id": "c5fde2f6",
   "metadata": {
    "execution": {
     "iopub.execute_input": "2024-05-02T01:12:42.777195Z",
     "iopub.status.busy": "2024-05-02T01:12:42.776830Z",
     "iopub.status.idle": "2024-05-02T01:12:42.783477Z",
     "shell.execute_reply": "2024-05-02T01:12:42.782691Z"
    },
    "papermill": {
     "duration": 0.457709,
     "end_time": "2024-05-02T01:12:42.785419",
     "exception": false,
     "start_time": "2024-05-02T01:12:42.327710",
     "status": "completed"
    },
    "tags": []
   },
   "outputs": [],
   "source": [
    "out_df.to_csv(\"submission.csv\")"
   ]
  },
  {
   "cell_type": "code",
   "execution_count": 21,
   "id": "669b78ea",
   "metadata": {
    "execution": {
     "iopub.execute_input": "2024-05-02T01:12:43.552585Z",
     "iopub.status.busy": "2024-05-02T01:12:43.552161Z",
     "iopub.status.idle": "2024-05-02T01:12:43.564509Z",
     "shell.execute_reply": "2024-05-02T01:12:43.563591Z"
    },
    "papermill": {
     "duration": 0.395591,
     "end_time": "2024-05-02T01:12:43.566503",
     "exception": false,
     "start_time": "2024-05-02T01:12:43.170912",
     "status": "completed"
    },
    "tags": []
   },
   "outputs": [
    {
     "data": {
      "text/html": [
       "<div>\n",
       "<style scoped>\n",
       "    .dataframe tbody tr th:only-of-type {\n",
       "        vertical-align: middle;\n",
       "    }\n",
       "\n",
       "    .dataframe tbody tr th {\n",
       "        vertical-align: top;\n",
       "    }\n",
       "\n",
       "    .dataframe thead th {\n",
       "        text-align: right;\n",
       "    }\n",
       "</style>\n",
       "<table border=\"1\" class=\"dataframe\">\n",
       "  <thead>\n",
       "    <tr style=\"text-align: right;\">\n",
       "      <th></th>\n",
       "      <th>essay_id</th>\n",
       "      <th>score</th>\n",
       "    </tr>\n",
       "  </thead>\n",
       "  <tbody>\n",
       "    <tr>\n",
       "      <th>0</th>\n",
       "      <td>000d118</td>\n",
       "      <td>3</td>\n",
       "    </tr>\n",
       "    <tr>\n",
       "      <th>1</th>\n",
       "      <td>000fe60</td>\n",
       "      <td>3</td>\n",
       "    </tr>\n",
       "    <tr>\n",
       "      <th>2</th>\n",
       "      <td>001ab80</td>\n",
       "      <td>5</td>\n",
       "    </tr>\n",
       "  </tbody>\n",
       "</table>\n",
       "</div>"
      ],
      "text/plain": [
       "  essay_id  score\n",
       "0  000d118      3\n",
       "1  000fe60      3\n",
       "2  001ab80      5"
      ]
     },
     "execution_count": 21,
     "metadata": {},
     "output_type": "execute_result"
    }
   ],
   "source": [
    "out_df"
   ]
  }
 ],
 "metadata": {
  "kaggle": {
   "accelerator": "gpu",
   "dataSources": [
    {
     "databundleVersionId": 8059942,
     "sourceId": 71485,
     "sourceType": "competition"
    },
    {
     "modelInstanceId": 4684,
     "sourceId": 6063,
     "sourceType": "modelInstanceVersion"
    }
   ],
   "dockerImageVersionId": 30698,
   "isGpuEnabled": true,
   "isInternetEnabled": false,
   "language": "python",
   "sourceType": "notebook"
  },
  "kernelspec": {
   "display_name": "Python 3",
   "language": "python",
   "name": "python3"
  },
  "language_info": {
   "codemirror_mode": {
    "name": "ipython",
    "version": 3
   },
   "file_extension": ".py",
   "mimetype": "text/x-python",
   "name": "python",
   "nbconvert_exporter": "python",
   "pygments_lexer": "ipython3",
   "version": "3.10.13"
  },
  "papermill": {
   "default_parameters": {},
   "duration": 4399.459843,
   "end_time": "2024-05-02T01:12:47.249823",
   "environment_variables": {},
   "exception": null,
   "input_path": "__notebook__.ipynb",
   "output_path": "__notebook__.ipynb",
   "parameters": {},
   "start_time": "2024-05-01T23:59:27.789980",
   "version": "2.5.0"
  }
 },
 "nbformat": 4,
 "nbformat_minor": 5
}
